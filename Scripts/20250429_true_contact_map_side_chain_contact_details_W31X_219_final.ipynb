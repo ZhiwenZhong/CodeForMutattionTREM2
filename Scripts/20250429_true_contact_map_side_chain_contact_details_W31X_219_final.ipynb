{
 "cells": [
  {
   "cell_type": "code",
   "execution_count": 1,
   "metadata": {},
   "outputs": [],
   "source": [
    "import MDAnalysis as mda\n",
    "import numpy as np\n",
    "import MDAnalysis.analysis.distances\n",
    "import matplotlib.pyplot as plt\n",
    "from numpy import linalg as LA\n",
    "import MDAnalysis.analysis.rdf as rdf_calc\n",
    "import seaborn as sns\n",
    "import pandas as pd\n",
    "from tqdm.auto import tqdm"
   ]
  },
  {
   "cell_type": "markdown",
   "metadata": {},
   "source": [
    "# W31X_219_1980"
   ]
  },
  {
   "cell_type": "code",
   "execution_count": 2,
   "metadata": {},
   "outputs": [
    {
     "name": "stdout",
     "output_type": "stream",
     "text": [
      "There are 96 residues in the protein\n"
     ]
    }
   ],
   "source": [
    "u = mda.Universe(\"/Users/k20098771/Data/2024/CGtoAA/Startpoint/W31X_219_200us_198_0us/step6_6.gro\", \"/Users/k20098771/Data/2024/CGtoAA/Startpoint/W31X_219_200us_198_0us/step7_centered.xtc\")\n",
    "protein = u.select_atoms('protein')\n",
    "print('There are {} residues in the protein'.format(len(protein.residues)))\n",
    "#protein residues"
   ]
  },
  {
   "cell_type": "code",
   "execution_count": 3,
   "metadata": {},
   "outputs": [
    {
     "data": {
      "application/vnd.jupyter.widget-view+json": {
       "model_id": "9396cc2446e14ec3af21e99f68a2f85e",
       "version_major": 2,
       "version_minor": 0
      },
      "text/plain": [
       "  0%|          | 0/61 [00:00<?, ?it/s]"
      ]
     },
     "metadata": {},
     "output_type": "display_data"
    },
    {
     "data": {
      "text/plain": [
       "61"
      ]
     },
     "execution_count": 3,
     "metadata": {},
     "output_type": "execute_result"
    }
   ],
   "source": [
    "#Trajectory frames\n",
    "u_1000 = u.trajectory[::100]\n",
    "len(u_1000)\n",
    "time=[]\n",
    "for ts in tqdm(u_1000):\n",
    "    time.append(u.trajectory.time)\n",
    "time=np.array(time)\n",
    "len(time)"
   ]
  },
  {
   "cell_type": "code",
   "execution_count": 4,
   "metadata": {},
   "outputs": [
    {
     "name": "stdout",
     "output_type": "stream",
     "text": [
      "[ 1  2  3  4  5  6  7  8  9 10 11 12 13 14 15 16 17 18 19 20 21 22 23 24\n",
      " 25 26 27 28 29 30 31 32 33]\n",
      "[ 1  2  3  4  5  6  7  8  9 10 11 12 13 14 15 16 17 18 19 20 21 22 23 24\n",
      " 25 26 27 28 29 30 31 32 33]\n",
      "[ 1  2  3  4  5  6  7  8  9 10 11 12 13 14 15 16 17 18 19 20 21 22 23 24\n",
      " 25 26 27 28 29 30]\n"
     ]
    }
   ],
   "source": [
    "#Select DAP12 and TREM2\n",
    "DAP12_A = u.select_atoms('index 0:495 and name CA') #DAP12 chain A\n",
    "DAP12_B = u.select_atoms('index 496:991 and name CA') #DAP12 chain B\n",
    "TREM2 = u.select_atoms('index 992:1735 and name CA') #TREM2\n",
    "print(np.unique(DAP12_A.resids))\n",
    "print(np.unique(DAP12_B.resids))\n",
    "print(np.unique(TREM2.resids))"
   ]
  },
  {
   "cell_type": "code",
   "execution_count": 5,
   "metadata": {},
   "outputs": [
    {
     "data": {
      "application/vnd.jupyter.widget-view+json": {
       "model_id": "c1815d7c84a04e339248ce8b421fe7d2",
       "version_major": 2,
       "version_minor": 0
      },
      "text/plain": [
       "  0%|          | 0/61 [00:00<?, ?it/s]"
      ]
     },
     "metadata": {},
     "output_type": "display_data"
    }
   ],
   "source": [
    "# Create empty contact map\n",
    "contact_map = np.zeros((len(TREM2.residues), len(DAP12_A.residues)), dtype=int)\n",
    "\n",
    "for i, ts in enumerate(tqdm(u_1000)):\n",
    "    # Create a temporary contact map for each time step\n",
    "    temp_contact_map = np.zeros((len(TREM2.residues), len(DAP12_A.residues)), dtype=int)\n",
    "    \n",
    "    for j, trem_residue in enumerate(TREM2.residues):\n",
    "        for k, dap_residue in enumerate(DAP12_A.residues):\n",
    "            # Check if any pair of atoms between TREM2[j] and DAP12_A[k] is in contact\n",
    "            contact_exists = any(\n",
    "                MDAnalysis.analysis.distances.distance_array(\n",
    "                    trem_atom.position,\n",
    "                    dap_atom.position,\n",
    "                    box=u.dimensions,\n",
    "                ).min() < 3\n",
    "                for trem_atom in trem_residue.atoms\n",
    "                for dap_atom in dap_residue.atoms\n",
    "            )\n",
    "            # Increment the contact count if contact exists\n",
    "            temp_contact_map[j, k] = int(contact_exists)\n",
    "    \n",
    "    # Add the temporary contact map to the cumulative contact map\n",
    "    contact_map += temp_contact_map\n",
    "\n",
    "# Now, 'contact_map' contains cumulative contact numbers between TREM2 and DAP12_A residues over multiple time steps.\n"
   ]
  },
  {
   "cell_type": "code",
   "execution_count": 6,
   "metadata": {
    "scrolled": false
   },
   "outputs": [],
   "source": [
    "contact_map\n",
    "contact_map_01 = contact_map"
   ]
  },
  {
   "cell_type": "code",
   "execution_count": 7,
   "metadata": {},
   "outputs": [
    {
     "name": "stdout",
     "output_type": "stream",
     "text": [
      "Saved contact_map as W31X_219_contact_map_01.npy\n"
     ]
    }
   ],
   "source": [
    "np.save('W31X_219_contact_map_01.npy', contact_map_01)\n",
    "np.savetxt('/Users/k20098771/Data/Figures/W31X_219_contact_map_01.npy', contact_map_01, fmt='%d')\n",
    "print(\"Saved contact_map as W31X_219_contact_map_01.npy\")"
   ]
  },
  {
   "cell_type": "code",
   "execution_count": 8,
   "metadata": {},
   "outputs": [
    {
     "data": {
      "application/vnd.jupyter.widget-view+json": {
       "model_id": "c71d836ee59945ffafe82475a910aa93",
       "version_major": 2,
       "version_minor": 0
      },
      "text/plain": [
       "  0%|          | 0/61 [00:00<?, ?it/s]"
      ]
     },
     "metadata": {},
     "output_type": "display_data"
    }
   ],
   "source": [
    "# Create empty contact map\n",
    "contact_map_B = np.zeros((len(TREM2.residues), len(DAP12_B.residues)), dtype=int)\n",
    "\n",
    "for i, ts in enumerate(tqdm(u_1000)):\n",
    "    # Create a temporary contact map for each time step\n",
    "    temp_contact_map = np.zeros((len(TREM2.residues), len(DAP12_B.residues)), dtype=int)\n",
    "    \n",
    "    for j, trem_residue in enumerate(TREM2.residues):\n",
    "        for k, dap_residue in enumerate(DAP12_B.residues):\n",
    "            # Check if any pair of atoms between TREM2[j] and DAP12_B[k] is in contact\n",
    "            contact_exists = any(\n",
    "                MDAnalysis.analysis.distances.distance_array(\n",
    "                    trem_atom.position,\n",
    "                    dap_atom.position,\n",
    "                    box=u.dimensions,\n",
    "                ).min() < 3\n",
    "                for trem_atom in trem_residue.atoms\n",
    "                for dap_atom in dap_residue.atoms\n",
    "            )\n",
    "            # Increment the contact count if contact exists\n",
    "            temp_contact_map[j, k] = int(contact_exists)\n",
    "    \n",
    "    # Add the temporary contact map to the cumulative contact map\n",
    "    contact_map_B += temp_contact_map\n",
    "\n",
    "# Now, 'contact_map' contains cumulative contact numbers between TREM2 and DAP12_A residues over multiple time steps.\n"
   ]
  },
  {
   "cell_type": "code",
   "execution_count": 9,
   "metadata": {},
   "outputs": [],
   "source": [
    "contact_map_B\n",
    "contact_map_02 = contact_map_B"
   ]
  },
  {
   "cell_type": "code",
   "execution_count": 10,
   "metadata": {},
   "outputs": [
    {
     "name": "stdout",
     "output_type": "stream",
     "text": [
      "Saved contact_map as W31X_219_contact_map_02.npy\n"
     ]
    }
   ],
   "source": [
    "np.save('W31X_219_contact_map_02.npy', contact_map_02)\n",
    "np.savetxt('/Users/k20098771/Data/Figures/W31X_219_contact_map_02.npy', contact_map_02, fmt='%d')\n",
    "print(\"Saved contact_map as W31X_219_contact_map_02.npy\")"
   ]
  },
  {
   "cell_type": "markdown",
   "metadata": {},
   "source": [
    "# W31X_219_1987"
   ]
  },
  {
   "cell_type": "code",
   "execution_count": 11,
   "metadata": {},
   "outputs": [
    {
     "name": "stdout",
     "output_type": "stream",
     "text": [
      "There are 96 residues in the protein\n"
     ]
    }
   ],
   "source": [
    "u = mda.Universe(\"/Users/k20098771/Data/2024/CGtoAA/Startpoint/W31X_219_200us_198_7us/step6_6.gro\", \"/Users/k20098771/Data/2024/CGtoAA/Startpoint/W31X_219_200us_198_7us/step7_centered.xtc\")\n",
    "protein = u.select_atoms('protein')\n",
    "print('There are {} residues in the protein'.format(len(protein.residues)))\n",
    "#protein residues"
   ]
  },
  {
   "cell_type": "code",
   "execution_count": 12,
   "metadata": {},
   "outputs": [
    {
     "data": {
      "application/vnd.jupyter.widget-view+json": {
       "model_id": "8aeddd96709a4a84a8186f2f28dade2a",
       "version_major": 2,
       "version_minor": 0
      },
      "text/plain": [
       "  0%|          | 0/61 [00:00<?, ?it/s]"
      ]
     },
     "metadata": {},
     "output_type": "display_data"
    },
    {
     "data": {
      "text/plain": [
       "61"
      ]
     },
     "execution_count": 12,
     "metadata": {},
     "output_type": "execute_result"
    }
   ],
   "source": [
    "#Trajectory frames\n",
    "u_1000 = u.trajectory[::100]\n",
    "len(u_1000)\n",
    "time=[]\n",
    "for ts in tqdm(u_1000):\n",
    "    time.append(u.trajectory.time)\n",
    "time=np.array(time)\n",
    "len(time)"
   ]
  },
  {
   "cell_type": "code",
   "execution_count": 13,
   "metadata": {},
   "outputs": [
    {
     "name": "stdout",
     "output_type": "stream",
     "text": [
      "[ 1  2  3  4  5  6  7  8  9 10 11 12 13 14 15 16 17 18 19 20 21 22 23 24\n",
      " 25 26 27 28 29 30 31 32 33]\n",
      "[ 1  2  3  4  5  6  7  8  9 10 11 12 13 14 15 16 17 18 19 20 21 22 23 24\n",
      " 25 26 27 28 29 30 31 32 33]\n",
      "[ 1  2  3  4  5  6  7  8  9 10 11 12 13 14 15 16 17 18 19 20 21 22 23 24\n",
      " 25 26 27 28 29 30]\n"
     ]
    }
   ],
   "source": [
    "#Select DAP12 and TREM2\n",
    "DAP12_A = u.select_atoms('index 0:495 and name CA') #DAP12 chain A\n",
    "DAP12_B = u.select_atoms('index 496:991 and name CA') #DAP12 chain B\n",
    "TREM2 = u.select_atoms('index 992:1735 and name CA') #TREM2\n",
    "print(np.unique(DAP12_A.resids))\n",
    "print(np.unique(DAP12_B.resids))\n",
    "print(np.unique(TREM2.resids))"
   ]
  },
  {
   "cell_type": "code",
   "execution_count": 14,
   "metadata": {},
   "outputs": [],
   "source": [
    "# Create empty contact map\n",
    "contact_map = np.zeros((len(TREM2.residues), len(DAP12_A.residues)), dtype=int)\n",
    "\n",
    "for i, ts in enumerate(tqdm(u_1000)):\n",
    "    # Create a temporary contact map for each time step\n",
    "    temp_contact_map = np.zeros((len(TREM2.residues), len(DAP12_A.residues)), dtype=int)\n",
    "    \n",
    "    for j, trem_residue in enumerate(TREM2.residues):\n",
    "        for k, dap_residue in enumerate(DAP12_A.residues):\n",
    "            # Check if any pair of atoms between TREM2[j] and DAP12_A[k] is in contact\n",
    "            contact_exists = any(\n",
    "                MDAnalysis.analysis.distances.distance_array(\n",
    "                    trem_atom.position,\n",
    "                    dap_atom.position,\n",
    "                    box=u.dimensions,\n",
    "                ).min() < 3\n",
    "                for trem_atom in trem_residue.atoms\n",
    "                for dap_atom in dap_residue.atoms\n",
    "            )\n",
    "            # Increment the contact count if contact exists\n",
    "            temp_contact_map[j, k] = int(contact_exists)\n",
    "    \n",
    "    # Add the temporary contact map to the cumulative contact map\n",
    "    contact_map += temp_contact_map\n",
    "\n",
    "# Now, 'contact_map' contains cumulative contact numbers between TREM2 and DAP12_A residues over multiple time steps.\n"
   ]
  },
  {
   "cell_type": "code",
   "execution_count": 15,
   "metadata": {
    "scrolled": false
   },
   "outputs": [],
   "source": [
    "contact_map\n",
    "contact_map_03 = contact_map"
   ]
  },
  {
   "cell_type": "code",
   "execution_count": 16,
   "metadata": {},
   "outputs": [
    {
     "name": "stdout",
     "output_type": "stream",
     "text": [
      "Saved contact_map as W31X_219_contact_map_03.npy\n"
     ]
    }
   ],
   "source": [
    "np.save('W31X_219_contact_map_03.npy', contact_map_03)\n",
    "np.savetxt('/Users/k20098771/Data/Figures/W31X_219_contact_map_03.npy', contact_map_03, fmt='%d')\n",
    "print(\"Saved contact_map as W31X_219_contact_map_03.npy\")"
   ]
  },
  {
   "cell_type": "code",
   "execution_count": 17,
   "metadata": {},
   "outputs": [
    {
     "data": {
      "application/vnd.jupyter.widget-view+json": {
       "model_id": "df3476c509e3469ab67548f7de347d61",
       "version_major": 2,
       "version_minor": 0
      },
      "text/plain": [
       "  0%|          | 0/61 [00:00<?, ?it/s]"
      ]
     },
     "metadata": {},
     "output_type": "display_data"
    }
   ],
   "source": [
    "# Create empty contact map\n",
    "contact_map_B = np.zeros((len(TREM2.residues), len(DAP12_B.residues)), dtype=int)\n",
    "\n",
    "for i, ts in enumerate(tqdm(u_1000)):\n",
    "    # Create a temporary contact map for each time step\n",
    "    temp_contact_map = np.zeros((len(TREM2.residues), len(DAP12_B.residues)), dtype=int)\n",
    "    \n",
    "    for j, trem_residue in enumerate(TREM2.residues):\n",
    "        for k, dap_residue in enumerate(DAP12_B.residues):\n",
    "            # Check if any pair of atoms between TREM2[j] and DAP12_B[k] is in contact\n",
    "            contact_exists = any(\n",
    "                MDAnalysis.analysis.distances.distance_array(\n",
    "                    trem_atom.position,\n",
    "                    dap_atom.position,\n",
    "                    box=u.dimensions,\n",
    "                ).min() < 3\n",
    "                for trem_atom in trem_residue.atoms\n",
    "                for dap_atom in dap_residue.atoms\n",
    "            )\n",
    "            # Increment the contact count if contact exists\n",
    "            temp_contact_map[j, k] = int(contact_exists)\n",
    "    \n",
    "    # Add the temporary contact map to the cumulative contact map\n",
    "    contact_map_B += temp_contact_map\n",
    "\n",
    "# Now, 'contact_map' contains cumulative contact numbers between TREM2 and DAP12_A residues over multiple time steps.\n"
   ]
  },
  {
   "cell_type": "code",
   "execution_count": 18,
   "metadata": {},
   "outputs": [],
   "source": [
    "contact_map_B\n",
    "contact_map_04 = contact_map_B"
   ]
  },
  {
   "cell_type": "code",
   "execution_count": 19,
   "metadata": {},
   "outputs": [
    {
     "name": "stdout",
     "output_type": "stream",
     "text": [
      "Saved contact_map as W31X_219_contact_map_04.npy\n"
     ]
    }
   ],
   "source": [
    "np.save('W31X_219_contact_map_04.npy', contact_map_04)\n",
    "np.savetxt('/Users/k20098771/Data/Figures/W31X_219_contact_map_04.npy', contact_map_04, fmt='%d')\n",
    "print(\"Saved contact_map as W31X_219_contact_map_04.npy\")"
   ]
  },
  {
   "cell_type": "markdown",
   "metadata": {},
   "source": [
    "# W31X_219_2000"
   ]
  },
  {
   "cell_type": "code",
   "execution_count": 20,
   "metadata": {},
   "outputs": [
    {
     "name": "stdout",
     "output_type": "stream",
     "text": [
      "There are 96 residues in the protein\n"
     ]
    }
   ],
   "source": [
    "u = mda.Universe(\"/Users/k20098771/Data/2024/CGtoAA/Startpoint/W31X_219_200us_200_0us/step6_6.gro\", \"/Users/k20098771/Data/2024/CGtoAA/Startpoint/W31X_219_200us_200_0us/step7_centered.xtc\")\n",
    "protein = u.select_atoms('protein')\n",
    "print('There are {} residues in the protein'.format(len(protein.residues)))\n",
    "#protein residues"
   ]
  },
  {
   "cell_type": "code",
   "execution_count": 21,
   "metadata": {},
   "outputs": [
    {
     "data": {
      "application/vnd.jupyter.widget-view+json": {
       "model_id": "f3c94e24789c442a81ae86e32c26c460",
       "version_major": 2,
       "version_minor": 0
      },
      "text/plain": [
       "  0%|          | 0/61 [00:00<?, ?it/s]"
      ]
     },
     "metadata": {},
     "output_type": "display_data"
    },
    {
     "data": {
      "text/plain": [
       "61"
      ]
     },
     "execution_count": 21,
     "metadata": {},
     "output_type": "execute_result"
    }
   ],
   "source": [
    "#Trajectory frames\n",
    "u_1000 = u.trajectory[::100]\n",
    "len(u_1000)\n",
    "time=[]\n",
    "for ts in tqdm(u_1000):\n",
    "    time.append(u.trajectory.time)\n",
    "time=np.array(time)\n",
    "len(time)"
   ]
  },
  {
   "cell_type": "code",
   "execution_count": 22,
   "metadata": {},
   "outputs": [
    {
     "name": "stdout",
     "output_type": "stream",
     "text": [
      "[ 1  2  3  4  5  6  7  8  9 10 11 12 13 14 15 16 17 18 19 20 21 22 23 24\n",
      " 25 26 27 28 29 30 31 32 33]\n",
      "[ 1  2  3  4  5  6  7  8  9 10 11 12 13 14 15 16 17 18 19 20 21 22 23 24\n",
      " 25 26 27 28 29 30 31 32 33]\n",
      "[ 1  2  3  4  5  6  7  8  9 10 11 12 13 14 15 16 17 18 19 20 21 22 23 24\n",
      " 25 26 27 28 29 30]\n"
     ]
    }
   ],
   "source": [
    "#Select DAP12 and TREM2\n",
    "DAP12_A = u.select_atoms('index 0:495 and name CA') #DAP12 chain A\n",
    "DAP12_B = u.select_atoms('index 496:991 and name CA') #DAP12 chain B\n",
    "TREM2 = u.select_atoms('index 992:1735 and name CA') #TREM2\n",
    "print(np.unique(DAP12_A.resids))\n",
    "print(np.unique(DAP12_B.resids))\n",
    "print(np.unique(TREM2.resids))"
   ]
  },
  {
   "cell_type": "code",
   "execution_count": 23,
   "metadata": {},
   "outputs": [
    {
     "data": {
      "application/vnd.jupyter.widget-view+json": {
       "model_id": "686c23df9b0747669aabce2e1b43f135",
       "version_major": 2,
       "version_minor": 0
      },
      "text/plain": [
       "  0%|          | 0/61 [00:00<?, ?it/s]"
      ]
     },
     "metadata": {},
     "output_type": "display_data"
    }
   ],
   "source": [
    "# Create empty contact map\n",
    "contact_map = np.zeros((len(TREM2.residues), len(DAP12_A.residues)), dtype=int)\n",
    "\n",
    "for i, ts in enumerate(tqdm(u_1000)):\n",
    "    # Create a temporary contact map for each time step\n",
    "    temp_contact_map = np.zeros((len(TREM2.residues), len(DAP12_A.residues)), dtype=int)\n",
    "    \n",
    "    for j, trem_residue in enumerate(TREM2.residues):\n",
    "        for k, dap_residue in enumerate(DAP12_A.residues):\n",
    "            # Check if any pair of atoms between TREM2[j] and DAP12_A[k] is in contact\n",
    "            contact_exists = any(\n",
    "                MDAnalysis.analysis.distances.distance_array(\n",
    "                    trem_atom.position,\n",
    "                    dap_atom.position,\n",
    "                    box=u.dimensions,\n",
    "                ).min() < 3\n",
    "                for trem_atom in trem_residue.atoms\n",
    "                for dap_atom in dap_residue.atoms\n",
    "            )\n",
    "            # Increment the contact count if contact exists\n",
    "            temp_contact_map[j, k] = int(contact_exists)\n",
    "    \n",
    "    # Add the temporary contact map to the cumulative contact map\n",
    "    contact_map += temp_contact_map\n",
    "\n",
    "# Now, 'contact_map' contains cumulative contact numbers between TREM2 and DAP12_A residues over multiple time steps.\n"
   ]
  },
  {
   "cell_type": "code",
   "execution_count": 24,
   "metadata": {
    "scrolled": false
   },
   "outputs": [],
   "source": [
    "contact_map\n",
    "contact_map_05 = contact_map"
   ]
  },
  {
   "cell_type": "code",
   "execution_count": 25,
   "metadata": {},
   "outputs": [
    {
     "name": "stdout",
     "output_type": "stream",
     "text": [
      "Saved contact_map as W31X_219_contact_map_05.npy\n"
     ]
    }
   ],
   "source": [
    "np.save('W31X_219_contact_map_05.npy', contact_map_05)\n",
    "np.savetxt('/Users/k20098771/Data/Figures/W31X_219_contact_map_05.npy', contact_map_05, fmt='%d')\n",
    "print(\"Saved contact_map as W31X_219_contact_map_05.npy\")"
   ]
  },
  {
   "cell_type": "code",
   "execution_count": 26,
   "metadata": {},
   "outputs": [
    {
     "data": {
      "application/vnd.jupyter.widget-view+json": {
       "model_id": "5a83a021cedb41488c71d90aad0fe262",
       "version_major": 2,
       "version_minor": 0
      },
      "text/plain": [
       "  0%|          | 0/61 [00:00<?, ?it/s]"
      ]
     },
     "metadata": {},
     "output_type": "display_data"
    }
   ],
   "source": [
    "# Create empty contact map\n",
    "contact_map_B = np.zeros((len(TREM2.residues), len(DAP12_B.residues)), dtype=int)\n",
    "\n",
    "for i, ts in enumerate(tqdm(u_1000)):\n",
    "    # Create a temporary contact map for each time step\n",
    "    temp_contact_map = np.zeros((len(TREM2.residues), len(DAP12_B.residues)), dtype=int)\n",
    "    \n",
    "    for j, trem_residue in enumerate(TREM2.residues):\n",
    "        for k, dap_residue in enumerate(DAP12_B.residues):\n",
    "            # Check if any pair of atoms between TREM2[j] and DAP12_B[k] is in contact\n",
    "            contact_exists = any(\n",
    "                MDAnalysis.analysis.distances.distance_array(\n",
    "                    trem_atom.position,\n",
    "                    dap_atom.position,\n",
    "                    box=u.dimensions,\n",
    "                ).min() < 3\n",
    "                for trem_atom in trem_residue.atoms\n",
    "                for dap_atom in dap_residue.atoms\n",
    "            )\n",
    "            # Increment the contact count if contact exists\n",
    "            temp_contact_map[j, k] = int(contact_exists)\n",
    "    \n",
    "    # Add the temporary contact map to the cumulative contact map\n",
    "    contact_map_B += temp_contact_map\n",
    "\n",
    "# Now, 'contact_map' contains cumulative contact numbers between TREM2 and DAP12_A residues over multiple time steps.\n"
   ]
  },
  {
   "cell_type": "code",
   "execution_count": 27,
   "metadata": {},
   "outputs": [],
   "source": [
    "contact_map_B\n",
    "contact_map_06 = contact_map_B"
   ]
  },
  {
   "cell_type": "code",
   "execution_count": 28,
   "metadata": {},
   "outputs": [
    {
     "name": "stdout",
     "output_type": "stream",
     "text": [
      "Saved contact_map as W31X_219_contact_map_06.npy\n"
     ]
    }
   ],
   "source": [
    "np.save('W31X_219_contact_map_06.npy', contact_map_06)\n",
    "np.savetxt('/Users/k20098771/Data/Figures/W31X_219_contact_map_06.npy', contact_map_04, fmt='%d')\n",
    "print(\"Saved contact_map as W31X_219_contact_map_06.npy\")"
   ]
  },
  {
   "cell_type": "markdown",
   "metadata": {},
   "source": [
    "# Mix all"
   ]
  },
  {
   "cell_type": "code",
   "execution_count": 29,
   "metadata": {},
   "outputs": [
    {
     "name": "stdout",
     "output_type": "stream",
     "text": [
      "Saved contact_map as W31A_219_contact_map_merged.npy\n",
      "Merged contact map shape: (30, 33)\n",
      "[[ 0  0  0  0  0  0  0  0  0  0  0  0  0  0  0  0  0  0  0  0  0  0  0  0\n",
      "   0  0  0 55 21 11 27 61 63]\n",
      " [ 0  0  0  0  0  0  0  0  0  0  0  0  0  0  0  0  0  0  0  0  0  0  0  0\n",
      "   0  0  0  1  0  9  8 14  0]\n",
      " [ 0  0  0  0  0  0  0  0  0  0  0  0  0  0  0  0  0  0  0  0  0  0  0  0\n",
      "   0  0  0  0  0  0  4  6  8]\n",
      " [ 0  0  0  0  0  0  0  0  0  0  0  0  0  0  0  0  0  0  0  0  0  0  0  0\n",
      "   0  0  0 12  5  0 13 15 22]\n",
      " [ 0  0  0  0  0  0  0  0  0  0  0  0  0  0  0  0  0  0  0  0  0  0  0  0\n",
      "   0  0  2 10  0  0  7  7 17]\n",
      " [ 0  0  0  0  0  0  0  0  0  0  0  0  0  0  0  0  0  0  0  0  0  0  0  0\n",
      "   0  0  0  6  2  0  1  2 13]\n",
      " [ 0  0  0  0  0  0  0  0  0  0  0  0  0  0  0  0  0  0  0  0  0  0  0  0\n",
      "   0  0  0  2  0  0  2  8 28]\n",
      " [ 0  0  0  0  0  0  0  0  0  0  0  0  0  0  0  0  0  0  0  0  0  0  0  0\n",
      "   0  0  0  0  0  0  1  8  8]\n",
      " [ 0  0  0  0  0  0  0  0  0  0  0  0  0  0  0  0  0  0  0  0  0  0  0  0\n",
      "   0  0  0  0  0  0  0  6  1]\n",
      " [ 0  0  0  0  0  0  0  0  0  0  0  0  0  0  0  0  0  0  0  0  0  0  0  0\n",
      "   0  0  0  0  0  0  0  5  2]\n",
      " [ 0  0  0  0  0  0  0  0  0  0  0  0  0  0  0  0  0  0  0  0  0  0  0  0\n",
      "   0  0  0  0  0  0  0  1  1]\n",
      " [ 0  0  0  0  0  0  0  0  0  0  0  0  0  0  0  0  0  0  0  0  0  0  0  0\n",
      "   0  0  0  0  0  0  0  0 14]\n",
      " [ 0  0  0  0  0  0  0  0  0  0  0  0  0  0  0  0  0  0  0  0  0  0  0  0\n",
      "   0  0  0  0  0  0  0  7 19]\n",
      " [ 0  0  0  0  0  0  0  0  0  0  0  0  0  0  0  0  0  0  0  0  0  0  0  0\n",
      "   0  0  0  0  0  0  0  7 19]\n",
      " [ 0  0  0  0  0  0  0  0  0  0  0  0  0  0  0  0  0  0  0  0  0  0  0  0\n",
      "   0  0  0  0  0  0  0  3 27]\n",
      " [ 0  0  0  0  0  0  0  0  0  0  0  0  0  0  0  0  0  0  0  0  0  0  0  0\n",
      "   0  0  0  0  0  0  0 12 11]\n",
      " [ 0  0  0  0  0  0  0  0  0  0  0  0  0  0  0  0  3  0  0 27  1  0  7 19\n",
      "   0  0  3  1  0  0  0  5  0]\n",
      " [ 0  0  0  0  0  0  0  0  0  0  0  0  1  0  0  0 44  0  0 22  9  0  0  3\n",
      "   0  0  0  2 13  5 16  1  6]\n",
      " [ 0  0  0  0  0  0  0  0  0  0  0  0  0  0  0  0  0  0  0  4  0  0  0  0\n",
      "   0  0  0  2  1  0  0 12  0]\n",
      " [ 0  0  0  0  0  0  0  0  0  0  0  0 26  0  0 39 43  0  0 23  0  0  0  0\n",
      "   0  0  1 25 28  0  0 17  2]\n",
      " [ 0  0  0  0  0  0  0  0  0  0  0  0  0  0  0 19  0  0  0  0  0  0  0  0\n",
      "   0  0  0  2  4  0  1  5  9]\n",
      " [ 0  0  0  0  0  0  0  0  0  0  0  0  0  0  0 35  0  0  2  0  0  0  0  0\n",
      "   0  0  0 24 24  0  1 20  6]\n",
      " [ 0  0  0  0  0  0  0  0  0  0  0  0  0  0  0  0  0  0  0  0  0  0  0  0\n",
      "   0  0  0  4 18  0  1  3  2]\n",
      " [ 0  0  0  0  0  0  0  0  0  0  0  0  0  0  0  0  0  0  0  0  0  0  0  0\n",
      "   1  0  0  0 36  0  1 26  1]\n",
      " [ 0  0  0  0  0  0  0  0  0  0  0  0  0  0  0  0  0  0  0  0  0  0  0  0\n",
      "   0  0  0  2 16  0  0  0  0]\n",
      " [ 0  0  0  0  0  0  0  0  0  0  0  0  0  0  0  0  0  0  0  0  0  0  0  0\n",
      "   1  0  0  0  1  0  0  0  0]\n",
      " [ 0  0  0  0  0  0  0  0  0  0  0  0  0  0  0  0  0  0  0  0  0  0  0  0\n",
      "   1  0  0  0 10  0  0  0  3]\n",
      " [ 0  0  0  0  0  0  0  0  0  0  0  0  0  0  0  0  0  0  0  0  0  0  0  0\n",
      "   0  0  0  0  7  0  0  0  0]\n",
      " [ 0  0  0  0  0  0  0  0  0  0  0  0  0  0  0  0  0  0  0  0  0  0  0  0\n",
      "   0  0  0  0  0  0  0  0  0]\n",
      " [ 0  0  0  0  0  0  0  0  0  0  0  0  0  0  0  0  0  0  0  0  0  0  0  0\n",
      "   0  0  0  0  0  0  0  0  0]]\n"
     ]
    }
   ],
   "source": [
    "# Load all six contact maps\n",
    "contact_maps = [np.load(f'W31X_219_contact_map_0{i}.npy') for i in range(1, 7)]\n",
    "\n",
    "# Sum them element-wise to get the merged contact map\n",
    "merged_contact_map = np.sum(contact_maps, axis=0)\n",
    "\n",
    "# Save the merged contact map\n",
    "np.save('merged_contact_map.npy', merged_contact_map)\n",
    "\n",
    "np.savetxt('/Users/k20098771/Data/Figures/W31A_219_contact_map_merged.npy', merged_contact_map, fmt='%d')\n",
    "print(\"Saved contact_map as W31A_219_contact_map_merged.npy\")\n",
    "\n",
    "# Optionally, print the shape to verify\n",
    "print(\"Merged contact map shape:\", merged_contact_map.shape)\n",
    "\n",
    "print(merged_contact_map)"
   ]
  },
  {
   "cell_type": "code",
   "execution_count": 30,
   "metadata": {},
   "outputs": [],
   "source": [
    "prob=merged_contact_map/(len(u_1000)*3)\n",
    "chart=np.where(prob>=0.6)"
   ]
  },
  {
   "cell_type": "code",
   "execution_count": 31,
   "metadata": {},
   "outputs": [
    {
     "data": {
      "text/html": [
       "<div>\n",
       "<style scoped>\n",
       "    .dataframe tbody tr th:only-of-type {\n",
       "        vertical-align: middle;\n",
       "    }\n",
       "\n",
       "    .dataframe tbody tr th {\n",
       "        vertical-align: top;\n",
       "    }\n",
       "\n",
       "    .dataframe thead th {\n",
       "        text-align: right;\n",
       "    }\n",
       "</style>\n",
       "<table border=\"1\" class=\"dataframe\">\n",
       "  <thead>\n",
       "    <tr style=\"text-align: right;\">\n",
       "      <th></th>\n",
       "    </tr>\n",
       "  </thead>\n",
       "  <tbody>\n",
       "    <tr>\n",
       "      <th>0</th>\n",
       "    </tr>\n",
       "    <tr>\n",
       "      <th>1</th>\n",
       "    </tr>\n",
       "  </tbody>\n",
       "</table>\n",
       "</div>"
      ],
      "text/plain": [
       "Empty DataFrame\n",
       "Columns: []\n",
       "Index: [0, 1]"
      ]
     },
     "execution_count": 31,
     "metadata": {},
     "output_type": "execute_result"
    }
   ],
   "source": [
    "df = pd.DataFrame(chart)\n",
    "index=[\"TREM2\", \"DAP12_B\"]\n",
    "pd.set_option('display.max_rows', 500)\n",
    "pd.set_option('display.max_columns', 500)\n",
    "pd.set_option('display.width', 1000)\n",
    "df"
   ]
  },
  {
   "cell_type": "code",
   "execution_count": 32,
   "metadata": {},
   "outputs": [
    {
     "name": "stdout",
     "output_type": "stream",
     "text": [
      "Empty DataFrame\n",
      "Columns: [TREM2, DAP12]\n",
      "Index: []\n"
     ]
    }
   ],
   "source": [
    "df = pd.DataFrame({'TREM2': chart[0]+161})\n",
    "df['DAP12'] = chart[1]+35 # Add a column 'D' with values from chartA[1]\n",
    "#df.index = range(1, len(df) + 1)\n",
    "print(df)"
   ]
  },
  {
   "cell_type": "code",
   "execution_count": 33,
   "metadata": {},
   "outputs": [
    {
     "data": {
      "image/png": "[encoded data removed]",
      "text/plain": [
       "<Figure size 640x480 with 1 Axes>"
      ]
     },
     "metadata": {},
     "output_type": "display_data"
    }
   ],
   "source": [
    "import matplotlib.patches as patches\n",
    "\n",
    "df = pd.DataFrame({'TREM2': chart[0]+161})\n",
    "df['DAP12'] = chart[1]+35\n",
    "\n",
    "# Plotting the DataFrame\n",
    "ax = df.plot(x='TREM2', y='DAP12', kind='scatter', color='dodgerblue')\n",
    "ax.set_xlabel('TREM2', fontsize=15, fontname='Arial')\n",
    "ax.set_ylabel('DAP12', fontsize=15, fontname='Arial')\n",
    "\n",
    "# Add the rectangle\n",
    "#rect = patches.Rectangle((25.5, 16.5), width=1, height=5, fill=False, edgecolor='red') #DxxxT\n",
    "#ax.add_patch(rect)\n",
    "\n",
    "rect_2 = patches.Rectangle((13.5+161, 5.5+35), width=27, height=26, fill=False, edgecolor='gray')\n",
    "ax.add_patch(rect_2)\n",
    "\n",
    "# Adjusting the x-axis ticks\n",
    "x_ticks = np.arange(161, 48+161, 5)\n",
    "y_ticks = np.arange(35, 33+35, 5)\n",
    "ax.set_xticks(x_ticks)\n",
    "ax.set_yticks(y_ticks)\n",
    "plt.xlim([0+161,46+161])\n",
    "plt.ylim([0+35,33+35])\n",
    "\n",
    "# Changing the font name of x-axis and y-axis tick labels\n",
    "ax.set_xticklabels(ax.get_xticks(), fontsize=10, fontname='Arial')\n",
    "ax.set_yticklabels(ax.get_yticks(), fontsize=10, fontname='Arial')\n",
    "\n",
    "ax=plt.gca() ##get caurrent axis\n",
    "ax.spines[\"right\"].set_color(\"none\") #visible for right spines\n",
    "ax.spines[\"top\"].set_color(\"none\") ##visible for top spines\n",
    "\n",
    "#Saving the plot as an image file\n",
    "plt.savefig(\"/Users/k20098771/Data/Figures/W31X_219_contact_map_merged_60.eps\", dpi=800, format='eps',bbox_inches=\"tight\")\n"
   ]
  },
  {
   "cell_type": "code",
   "execution_count": null,
   "metadata": {},
   "outputs": [],
   "source": []
  },
  {
   "cell_type": "code",
   "execution_count": null,
   "metadata": {},
   "outputs": [],
   "source": []
  },
  {
   "cell_type": "code",
   "execution_count": null,
   "metadata": {},
   "outputs": [],
   "source": []
  },
  {
   "cell_type": "code",
   "execution_count": null,
   "metadata": {},
   "outputs": [],
   "source": []
  }
 ],
 "metadata": {
  "kernelspec": {
   "display_name": "Python 3 (ipykernel)",
   "language": "python",
   "name": "python3"
  },
  "language_info": {
   "codemirror_mode": {
    "name": "ipython",
    "version": 3
   },
   "file_extension": ".py",
   "mimetype": "text/x-python",
   "name": "python",
   "nbconvert_exporter": "python",
   "pygments_lexer": "ipython3",
   "version": "3.10.9"
  }
 },
 "nbformat": 4,
 "nbformat_minor": 4
}
