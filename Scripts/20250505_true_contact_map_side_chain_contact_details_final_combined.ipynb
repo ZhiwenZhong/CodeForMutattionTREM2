{
 "cells": [
  {
   "cell_type": "code",
   "execution_count": 1,
   "metadata": {},
   "outputs": [],
   "source": [
    "import MDAnalysis as mda\n",
    "import numpy as np\n",
    "import MDAnalysis.analysis.distances\n",
    "import matplotlib.pyplot as plt\n",
    "from numpy import linalg as LA\n",
    "import MDAnalysis.analysis.rdf as rdf_calc\n",
    "import seaborn as sns\n",
    "import pandas as pd\n",
    "from tqdm.auto import tqdm"
   ]
  },
  {
   "cell_type": "markdown",
   "metadata": {},
   "source": [
    "# K26A_2980"
   ]
  },
  {
   "cell_type": "code",
   "execution_count": 2,
   "metadata": {},
   "outputs": [
    {
     "name": "stdout",
     "output_type": "stream",
     "text": [
      "There are 112 residues in the protein\n"
     ]
    }
   ],
   "source": [
    "u = mda.Universe(\"/Users/k20098771/Data/2024/CGtoAA/Startpoint/K26A_300us_298_0us/step6_6.gro\", \"/Users/k20098771/Data/2024/CGtoAA/Startpoint/K26A_300us_298_0us/step7_centered.xtc\")\n",
    "protein = u.select_atoms('protein')\n",
    "print('There are {} residues in the protein'.format(len(protein.residues)))\n",
    "#protein residues"
   ]
  },
  {
   "cell_type": "code",
   "execution_count": 3,
   "metadata": {},
   "outputs": [
    {
     "data": {
      "application/vnd.jupyter.widget-view+json": {
       "model_id": "49dc39f7e22e43c3ac8ce29ebec1a9a5",
       "version_major": 2,
       "version_minor": 0
      },
      "text/plain": [
       "  0%|          | 0/61 [00:00<?, ?it/s]"
      ]
     },
     "metadata": {},
     "output_type": "display_data"
    },
    {
     "data": {
      "text/plain": [
       "61"
      ]
     },
     "execution_count": 3,
     "metadata": {},
     "output_type": "execute_result"
    }
   ],
   "source": [
    "#Trajectory frames\n",
    "u_1000 = u.trajectory[::100]\n",
    "len(u_1000)\n",
    "time=[]\n",
    "for ts in tqdm(u_1000):\n",
    "    time.append(u.trajectory.time)\n",
    "time=np.array(time)\n",
    "len(time)"
   ]
  },
  {
   "cell_type": "code",
   "execution_count": 4,
   "metadata": {
    "scrolled": true
   },
   "outputs": [
    {
     "name": "stdout",
     "output_type": "stream",
     "text": [
      "[ 1  2  3  4  5  6  7  8  9 10 11 12 13 14 15 16 17 18 19 20 21 22 23 24\n",
      " 25 26 27 28 29 30 31 32 33]\n",
      "[ 1  2  3  4  5  6  7  8  9 10 11 12 13 14 15 16 17 18 19 20 21 22 23 24\n",
      " 25 26 27 28 29 30 31 32 33]\n",
      "[ 1  2  3  4  5  6  7  8  9 10 11 12 13 14 15 16 17 18 19 20 21 22 23 24\n",
      " 25 26 27 28 29 30 31 32 33 34 35 36 37 38 39 40 41 42 43 44 45 46]\n"
     ]
    }
   ],
   "source": [
    "#Select DAP12 and TREM2\n",
    "DAP12_A = u.select_atoms('index 0:495 and name CA') #DAP12 chain A\n",
    "DAP12_B = u.select_atoms('index 496:991 and name CA') #DAP12 chain B\n",
    "TREM2 = u.select_atoms('index 992:1704 and name CA') #TREM2\n",
    "print(np.unique(DAP12_A.resids))\n",
    "print(np.unique(DAP12_B.resids))\n",
    "print(np.unique(TREM2.resids))"
   ]
  },
  {
   "cell_type": "markdown",
   "metadata": {},
   "source": [
    "# K26A Mix all"
   ]
  },
  {
   "cell_type": "code",
   "execution_count": 35,
   "metadata": {},
   "outputs": [
    {
     "name": "stdout",
     "output_type": "stream",
     "text": [
      "Merged contact map shape: (46, 33)\n",
      "[[3 0 8 ... 0 0 0]\n",
      " [3 0 6 ... 0 0 0]\n",
      " [1 2 0 ... 0 0 0]\n",
      " ...\n",
      " [0 0 0 ... 0 3 4]\n",
      " [0 0 0 ... 0 0 5]\n",
      " [0 0 0 ... 0 5 7]]\n"
     ]
    }
   ],
   "source": [
    "# Load all six contact maps\n",
    "contact_maps = [np.load(f'./K26A_contact_map_0{i}.npy', allow_pickle=True) for i in range(1, 7)]\n",
    "\n",
    "# Sum them element-wise to get the merged contact map\n",
    "merged_contact_map = np.sum(contact_maps, axis=0)\n",
    "\n",
    "# Save the merged contact map\n",
    "np.save('merged_contact_map.npy', merged_contact_map)\n",
    "\n",
    "# Optionally, print the shape to verify\n",
    "print(\"Merged contact map shape:\", merged_contact_map.shape)\n",
    "\n",
    "print(merged_contact_map)"
   ]
  },
  {
   "cell_type": "code",
   "execution_count": 36,
   "metadata": {},
   "outputs": [],
   "source": [
    "prob=merged_contact_map/(len(u_1000)*3)\n",
    "chart=np.where(prob>=0.6)\n",
    "# chart_01=np.where(prob>=0.7)\n",
    "# chart_02=np.where(prob>=0.8)\n",
    "chart_03=np.where(prob>=0.9)"
   ]
  },
  {
   "cell_type": "code",
   "execution_count": 37,
   "metadata": {},
   "outputs": [
    {
     "data": {
      "text/html": [
       "<div>\n",
       "<style scoped>\n",
       "    .dataframe tbody tr th:only-of-type {\n",
       "        vertical-align: middle;\n",
       "    }\n",
       "\n",
       "    .dataframe tbody tr th {\n",
       "        vertical-align: top;\n",
       "    }\n",
       "\n",
       "    .dataframe thead th {\n",
       "        text-align: right;\n",
       "    }\n",
       "</style>\n",
       "<table border=\"1\" class=\"dataframe\">\n",
       "  <thead>\n",
       "    <tr style=\"text-align: right;\">\n",
       "      <th></th>\n",
       "      <th>0</th>\n",
       "      <th>1</th>\n",
       "    </tr>\n",
       "  </thead>\n",
       "  <tbody>\n",
       "    <tr>\n",
       "      <th>0</th>\n",
       "      <td>33</td>\n",
       "      <td>33</td>\n",
       "    </tr>\n",
       "    <tr>\n",
       "      <th>1</th>\n",
       "      <td>26</td>\n",
       "      <td>27</td>\n",
       "    </tr>\n",
       "  </tbody>\n",
       "</table>\n",
       "</div>"
      ],
      "text/plain": [
       "    0   1\n",
       "0  33  33\n",
       "1  26  27"
      ]
     },
     "execution_count": 37,
     "metadata": {},
     "output_type": "execute_result"
    }
   ],
   "source": [
    "df = pd.DataFrame(chart)\n",
    "# df_01 = pd.DataFrame(chart_01)\n",
    "# df_02 = pd.DataFrame(chart_02)\n",
    "df_03 = pd.DataFrame(chart_03)\n",
    "index=[\"TREM2\", \"DAP12_B\"]\n",
    "pd.set_option('display.max_rows', 500)\n",
    "pd.set_option('display.max_columns', 500)\n",
    "pd.set_option('display.width', 1000)\n",
    "df\n",
    "# df_01\n",
    "# df_02\n",
    "df_03"
   ]
  },
  {
   "cell_type": "code",
   "execution_count": 38,
   "metadata": {
    "scrolled": false
   },
   "outputs": [
    {
     "name": "stdout",
     "output_type": "stream",
     "text": [
      "   TREM2  DAP12\n",
      "0    182     47\n",
      "1    183     54\n",
      "2    193     58\n",
      "3    194     61\n",
      "4    194     62\n",
      "5    197     62\n",
      "6    198     67\n",
      "   TREM2  DAP12\n",
      "0    194     61\n",
      "1    194     62\n"
     ]
    }
   ],
   "source": [
    "df = pd.DataFrame({'TREM2': chart[0]+161})\n",
    "df['DAP12'] = chart[1]+35 # Add a column 'D' with values from chartA[1]\n",
    "# df_01 = pd.DataFrame({'TREM2': chart_01[0]+161})\n",
    "# df_01['DAP12'] = chart_01[1]+35 # Add a column 'D' with values from chartA[1]\n",
    "# df_02 = pd.DataFrame({'TREM2': chart_02[0]+161})\n",
    "# df_02['DAP12'] = chart_02[1]+35 # Add a column 'D' with values from chartA[1]\n",
    "df_03 = pd.DataFrame({'TREM2': chart_03[0]+161})\n",
    "df_03['DAP12'] = chart_03[1]+35 # Add a column 'D' with values from chartA[1]\n",
    "#df.index = range(1, len(df) + 1)\n",
    "print(df)\n",
    "# print(df_01)\n",
    "# print(df_02)\n",
    "print(df_03)"
   ]
  },
  {
   "cell_type": "code",
   "execution_count": 39,
   "metadata": {},
   "outputs": [
    {
     "data": {
      "image/png": "[encoded data removed]",
      "text/plain": [
       "<Figure size 640x480 with 1 Axes>"
      ]
     },
     "metadata": {},
     "output_type": "display_data"
    }
   ],
   "source": [
    "import matplotlib.patches as patches\n",
    "\n",
    "df = pd.DataFrame({'TREM2': chart[0]+161})\n",
    "df['DAP12'] = chart[1]+35\n",
    "# df_01 = pd.DataFrame({'TREM2': chart_01[0]+161})\n",
    "# df_01['DAP12'] = chart_01[1]+35\n",
    "# df_02 = pd.DataFrame({'TREM2': chart_02[0]+161})\n",
    "# df_02['DAP12'] = chart_02[1]+35\n",
    "df_03 = pd.DataFrame({'TREM2': chart_03[0]+161})\n",
    "df_03['DAP12'] = chart_03[1]+35\n",
    "\n",
    "\n",
    "\n",
    "# Plotting the DataFrame\n",
    "ax = df.plot(x='TREM2', y='DAP12', kind='scatter', color='dodgerblue')\n",
    "# ax = df_01.plot(x='TREM2', y='DAP12', kind='scatter', color='red')\n",
    "# ax = df_02.plot(x='TREM2', y='DAP12', kind='scatter', color='green')\n",
    "# ax = df_03.plot(x='TREM2', y='DAP12', kind='scatter', color='yellow')\n",
    "ax.set_xlabel('TREM2', fontsize=25, fontname='Arial')\n",
    "ax.set_ylabel('DAP12', fontsize=25, fontname='Arial')\n",
    "\n",
    "# Add the rectangle\n",
    "#rect = patches.Rectangle((25.5, 16.5), width=1, height=5, fill=False, edgecolor='red') #DxxxT\n",
    "#ax.add_patch(rect)\n",
    "\n",
    "rect_2 = patches.Rectangle((13.5+161, 5.5+35), width=27, height=26, fill=False, edgecolor='gray')\n",
    "ax.add_patch(rect_2)\n",
    "\n",
    "# Adjusting the x-axis ticks\n",
    "x_ticks = np.arange(161, 46+161, 5)\n",
    "y_ticks = np.arange(35, 33+35, 5)\n",
    "ax.set_xticks(x_ticks)\n",
    "ax.set_yticks(y_ticks)\n",
    "plt.xlim([0+161,46+161])\n",
    "plt.ylim([0+35,33+35])\n",
    "\n",
    "# Changing the font name of x-axis and y-axis tick labels\n",
    "ax.set_xticklabels(ax.get_xticks(), fontsize=20, fontname='Arial')\n",
    "ax.set_yticklabels(ax.get_yticks(), fontsize=20, fontname='Arial')\n",
    "\n",
    "ax=plt.gca() ##get caurrent axis\n",
    "ax.spines[\"right\"].set_color(\"none\") #visible for right spines\n",
    "ax.spines[\"top\"].set_color(\"none\") ##visible for top spines\n",
    "ax.spines['left'].set_linewidth(2)\n",
    "ax.spines['bottom'].set_linewidth(2)\n",
    "\n",
    "#Saving the plot as an image file\n",
    "# plt.savefig(\"/Users/k20098771/Data/Figures/K26A_contact_map_merged_60.eps\", dpi=800, format='eps',bbox_inches=\"tight\")\n"
   ]
  },
  {
   "cell_type": "code",
   "execution_count": 40,
   "metadata": {},
   "outputs": [
    {
     "data": {
      "image/png": "[encoded data removed]",
      "text/plain": [
       "<Figure size 640x480 with 1 Axes>"
      ]
     },
     "metadata": {},
     "output_type": "display_data"
    }
   ],
   "source": [
    "import matplotlib.pyplot as plt\n",
    "import matplotlib.patches as patches\n",
    "import pandas as pd\n",
    "import numpy as np\n",
    "\n",
    "# Create DataFrames\n",
    "df = pd.DataFrame({'TREM2': chart[0]+161, 'DAP12': chart[1]+35})\n",
    "# df_01 = pd.DataFrame({'TREM2': chart_01[0]+161, 'DAP12': chart_01[1]+35})\n",
    "# df_02 = pd.DataFrame({'TREM2': chart_02[0]+161, 'DAP12': chart_02[1]+35})\n",
    "df_03 = pd.DataFrame({'TREM2': chart_03[0]+161, 'DAP12': chart_03[1]+35})\n",
    "\n",
    "# Create a single figure and axis\n",
    "fig, ax = plt.subplots()\n",
    "\n",
    "# Plot each DataFrame using matplotlib directly\n",
    "ax.scatter(df['TREM2'], df['DAP12'], color='dodgerblue', label='Potential Residues')\n",
    "# ax.scatter(df_01['TREM2'], df_01['DAP12'], color='red', label='70%')\n",
    "# ax.scatter(df_02['TREM2'], df_02['DAP12'], color='green', label='80%')\n",
    "ax.scatter(df_03['TREM2'], df_03['DAP12'], color='red', label='Important Residues')\n",
    "\n",
    "# Labels and ticks\n",
    "ax.set_xlabel('TREM2', fontsize=25, fontname='Arial')\n",
    "ax.set_ylabel('DAP12', fontsize=25, fontname='Arial')\n",
    "\n",
    "# Add rectangle\n",
    "rect_2 = patches.Rectangle((13.5+161, 5.5+35), width=27, height=26, fill=False, edgecolor='gray')\n",
    "ax.add_patch(rect_2)\n",
    "\n",
    "# Set axis ticks and limits\n",
    "x_ticks = np.arange(161, 207+1, 5)\n",
    "y_ticks = np.arange(35, 68+1, 5)\n",
    "ax.set_xticks(x_ticks)\n",
    "ax.set_yticks(y_ticks)\n",
    "ax.set_xlim([161, 207])\n",
    "ax.set_ylim([35, 68])\n",
    "ax.set_xticklabels(x_ticks, fontsize=20, fontname='Arial')\n",
    "ax.set_yticklabels(y_ticks, fontsize=20, fontname='Arial')\n",
    "\n",
    "# Remove top/right spines\n",
    "ax.spines[\"right\"].set_color(\"none\")\n",
    "ax.spines[\"top\"].set_color(\"none\")\n",
    "ax.spines['left'].set_linewidth(2)\n",
    "ax.spines['bottom'].set_linewidth(2)\n",
    "# Add legend\n",
    "# ax.legend()\n",
    "\n",
    "# Save figure\n",
    "plt.savefig(\"/Users/k20098771/Data/Figures/K26A_contact_map_merged_60_90.eps\", dpi=800, format='eps', bbox_inches=\"tight\")\n"
   ]
  },
  {
   "cell_type": "markdown",
   "metadata": {},
   "source": [
    "# K26X Mix all"
   ]
  },
  {
   "cell_type": "code",
   "execution_count": 11,
   "metadata": {},
   "outputs": [
    {
     "name": "stdout",
     "output_type": "stream",
     "text": [
      "Merged contact map shape: (25, 33)\n",
      "[[  7  12   0   1   0   0   0   6   5   0  13  71  21   2   4 111   0   0\n",
      "    2   0   0   0   0   0   0   0   0   0   0   0   0   0   0]\n",
      " [ 22   7   4   0   0   0   0   9   0   0   4  66   0   1   5  52   0   0\n",
      "    0   0   0   0   0   0   0   0   0   0   0   0   0   0   0]\n",
      " [  1   7  29   0   9   0   1  28   5   0   3  25   0   0   4  15   0   0\n",
      "   61   2   0   0   1   0   0   0   0   0   0   0   0   0   0]\n",
      " [  0   3   1   0   0   6   0  31  22   0  20  68   0   0  43   7   0   0\n",
      "   12   0   0   0   0   0   0   0   0   0   0   0   0   0   0]\n",
      " [  1   0   0   0   0   0   0   1   0   0   0  42   0   0   0   0   0   0\n",
      "    0   0   0   0   0   0   0   0   0   0   0   0   0   0   0]\n",
      " [  0   0   0   0   0   0   0   0   0   0   0   0   0   0   0   0   0   0\n",
      "    0   0   0   0   0   0   0   0   0   0   0   0   0   0   0]\n",
      " [ 25  16   2   0   0   1   0   0  23   0   0   1   1   0   0   0   0   0\n",
      "    0   0   0   0   0   0   0   0   0   0   0   0   0   0   0]\n",
      " [  1   1   1   0   0   0   0   0  30   0   0  12  30   0   0   0   0   0\n",
      "    0   0   0   0   0   0   0   0   0   0   0   0   0   0   0]\n",
      " [  0   0   0   0   0   0   0   1  12   0   0   2   7   0   0   0   0   0\n",
      "   22   0   0   0   3   0   0   0   0   0   0   0   0   0   0]\n",
      " [  0   0   0   0   0   0   0   0   0   0   0   2   0   0   0   0   0   0\n",
      "   33   2   0   0  43   0   0   0   0   0   0   0   0   0   0]\n",
      " [  0   0   0   0   0   0   0   0  13   0   0   1   8   0   0   4   4   0\n",
      "    0   1   0   0   0   0   0   0   0   0   0   0   0   0   0]\n",
      " [  0   0   0   0   0   0   0   0  37   0   0  21 115   0   0  32 103   0\n",
      "    0   9   1   0   0   0   0   0   0   0   0   0   0   0   0]\n",
      " [  0   0   0   0   0   0   0   0   0   0   0   0   1   0   0  20  54   0\n",
      "   42 155  12   0  58   1   0   0   3   0   0   0   0   0   0]\n",
      " [  0   0   0   0   0   0   0   0   0   0   0   0   0   0   0   0   0   0\n",
      "    0   0   0   0   4   0   0   0   0   0   0   0   0   0   0]\n",
      " [  0   0   0   0   1   0   0   0   5   0   0   0  49   0   0   0   5   0\n",
      "    0   0   0   0   0   0   0   0   0   0   0   0   0   0   0]\n",
      " [  0   0   0   0   0   0   0   0   0   0   0   0  44   0   0  60 160   0\n",
      "    0 103 103   0  44   6   1   0  12   1   0   0   0   0   0]\n",
      " [  0   0   0   0   0   0   0   0   0   0   0   0   0   0   0   0   0   0\n",
      "    8  42   2   0 162  44   0  20  83   3   0  20   0   0   0]\n",
      " [  0   0   0   0   0   0   0   0   0   0   0   0   0   0   0   0   0   0\n",
      "    0   0   0   0   0   0   0   0   0   0   0   0   0   0   0]\n",
      " [  0   0   0   0   0   0   0   0   0   0   0   0  38   0   0   0  59   0\n",
      "    0   0   0   0   0   0   0   0   0   0   0   0   0   0   0]\n",
      " [  0   0   0   0   0   0   0   0   0   0   0   0   0   0   0   0  22   0\n",
      "    0  19   1   0  43   0   0   0 110  10   0  24   0   0   0]\n",
      " [  0   0   0   0   0   0   0   0   0   0   0   0   0   0   0   0   0   0\n",
      "    0   0   0   0   9   0   0   1  53   1   0  69   0   0   0]\n",
      " [  0   0   0   0   0   0   0   0   0   0   0   0   0   0   0   0   0   0\n",
      "    0   0   0   0   0   0   0   0   0   0   0   0   0   0   0]\n",
      " [  0   0   0   0   0   0   0   0   0   0   0   0   0   0   0   0   2   0\n",
      "    0   0  41   0   0  13  16   0  42   0   0   1   0   0   0]\n",
      " [  0   0   0   0   0   0   0   0   0   0   0   0   0   0   0   0   0   0\n",
      "    0   1   1   0   3   2   3   0  21  29   0  75  79  54  46]\n",
      " [  0   0   0   0   0   0   0   0   0   0   0   0   0   0   0   0   0   0\n",
      "    0   0   3   0   0  42  39   0  90 225   0   0 145 178  71]]\n"
     ]
    }
   ],
   "source": [
    "# Load all six contact maps\n",
    "contact_maps = [np.load(f'./K26X_contact_map_0{i}.npy', allow_pickle=True) for i in range(1, 7)]\n",
    "\n",
    "# Sum them element-wise to get the merged contact map\n",
    "merged_contact_map = np.sum(contact_maps, axis=0)\n",
    "\n",
    "# Save the merged contact map\n",
    "np.save('K26X_merged_contact_map.npy', merged_contact_map)\n",
    "\n",
    "# Optionally, print the shape to verify\n",
    "print(\"Merged contact map shape:\", merged_contact_map.shape)\n",
    "\n",
    "print(merged_contact_map)"
   ]
  },
  {
   "cell_type": "code",
   "execution_count": 12,
   "metadata": {},
   "outputs": [
    {
     "data": {
      "text/html": [
       "<div>\n",
       "<style scoped>\n",
       "    .dataframe tbody tr th:only-of-type {\n",
       "        vertical-align: middle;\n",
       "    }\n",
       "\n",
       "    .dataframe tbody tr th {\n",
       "        vertical-align: top;\n",
       "    }\n",
       "\n",
       "    .dataframe thead th {\n",
       "        text-align: right;\n",
       "    }\n",
       "</style>\n",
       "<table border=\"1\" class=\"dataframe\">\n",
       "  <thead>\n",
       "    <tr style=\"text-align: right;\">\n",
       "      <th></th>\n",
       "      <th>0</th>\n",
       "      <th>1</th>\n",
       "    </tr>\n",
       "  </thead>\n",
       "  <tbody>\n",
       "    <tr>\n",
       "      <th>0</th>\n",
       "      <td>24</td>\n",
       "      <td>24</td>\n",
       "    </tr>\n",
       "    <tr>\n",
       "      <th>1</th>\n",
       "      <td>27</td>\n",
       "      <td>31</td>\n",
       "    </tr>\n",
       "  </tbody>\n",
       "</table>\n",
       "</div>"
      ],
      "text/plain": [
       "    0   1\n",
       "0  24  24\n",
       "1  27  31"
      ]
     },
     "execution_count": 12,
     "metadata": {},
     "output_type": "execute_result"
    }
   ],
   "source": [
    "prob=merged_contact_map/(len(u_1000)*3)\n",
    "chart=np.where(prob>=0.6)\n",
    "# chart_01=np.where(prob>=0.7)\n",
    "# chart_02=np.where(prob>=0.8)\n",
    "chart_03=np.where(prob>=0.9)\n",
    "\n",
    "df = pd.DataFrame(chart)\n",
    "# df_01 = pd.DataFrame(chart_01)\n",
    "# df_02 = pd.DataFrame(chart_02)\n",
    "df_03 = pd.DataFrame(chart_03)\n",
    "index=[\"TREM2\", \"DAP12_B\"]\n",
    "pd.set_option('display.max_rows', 500)\n",
    "pd.set_option('display.max_columns', 500)\n",
    "pd.set_option('display.width', 1000)\n",
    "df\n",
    "# df_01\n",
    "# df_02\n",
    "df_03"
   ]
  },
  {
   "cell_type": "code",
   "execution_count": 13,
   "metadata": {},
   "outputs": [
    {
     "name": "stdout",
     "output_type": "stream",
     "text": [
      "   TREM2  DAP12\n",
      "0    161     50\n",
      "1    172     47\n",
      "2    173     54\n",
      "3    176     51\n",
      "4    177     57\n",
      "5    180     61\n",
      "6    185     62\n",
      "7    185     65\n",
      "8    185     66\n",
      "   TREM2  DAP12\n",
      "0    185     62\n",
      "1    185     66\n"
     ]
    }
   ],
   "source": [
    "df = pd.DataFrame({'TREM2': chart[0]+161})\n",
    "df['DAP12'] = chart[1]+35 # Add a column 'D' with values from chartA[1]\n",
    "# df_01 = pd.DataFrame({'TREM2': chart_01[0]+161})\n",
    "# df_01['DAP12'] = chart_01[1]+35 # Add a column 'D' with values from chartA[1]\n",
    "# df_02 = pd.DataFrame({'TREM2': chart_02[0]+161})\n",
    "# df_02['DAP12'] = chart_02[1]+35 # Add a column 'D' with values from chartA[1]\n",
    "df_03 = pd.DataFrame({'TREM2': chart_03[0]+161})\n",
    "df_03['DAP12'] = chart_03[1]+35 # Add a column 'D' with values from chartA[1]\n",
    "#df.index = range(1, len(df) + 1)\n",
    "print(df)\n",
    "# print(df_01)\n",
    "# print(df_02)\n",
    "print(df_03)"
   ]
  },
  {
   "cell_type": "code",
   "execution_count": 14,
   "metadata": {},
   "outputs": [
    {
     "data": {
      "image/png": "[encoded data removed]",
      "text/plain": [
       "<Figure size 640x480 with 1 Axes>"
      ]
     },
     "metadata": {},
     "output_type": "display_data"
    }
   ],
   "source": [
    "import matplotlib.pyplot as plt\n",
    "import matplotlib.patches as patches\n",
    "import pandas as pd\n",
    "import numpy as np\n",
    "\n",
    "# Create DataFrames\n",
    "df = pd.DataFrame({'TREM2': chart[0]+161, 'DAP12': chart[1]+35})\n",
    "# df_01 = pd.DataFrame({'TREM2': chart_01[0]+161, 'DAP12': chart_01[1]+35})\n",
    "# df_02 = pd.DataFrame({'TREM2': chart_02[0]+161, 'DAP12': chart_02[1]+35})\n",
    "df_03 = pd.DataFrame({'TREM2': chart_03[0]+161, 'DAP12': chart_03[1]+35})\n",
    "\n",
    "# Create a single figure and axis\n",
    "fig, ax = plt.subplots()\n",
    "\n",
    "# Plot each DataFrame using matplotlib directly\n",
    "ax.scatter(df['TREM2'], df['DAP12'], color='dodgerblue', label='Potential Residues')\n",
    "# ax.scatter(df_01['TREM2'], df_01['DAP12'], color='red', label='70%')\n",
    "# ax.scatter(df_02['TREM2'], df_02['DAP12'], color='green', label='80%')\n",
    "ax.scatter(df_03['TREM2'], df_03['DAP12'], color='red', label='Important Residues')\n",
    "\n",
    "# Labels and ticks\n",
    "ax.set_xlabel('TREM2', fontsize=25, fontname='Arial')\n",
    "ax.set_ylabel('DAP12', fontsize=25, fontname='Arial')\n",
    "\n",
    "# Add rectangle\n",
    "rect_2 = patches.Rectangle((13.5+161, 5.5+35), width=11, height=26, fill=False, edgecolor='gray')\n",
    "ax.add_patch(rect_2)\n",
    "\n",
    "# Set axis ticks and limits\n",
    "x_ticks = np.arange(161, 207+1, 5)\n",
    "y_ticks = np.arange(35, 68+1, 5)\n",
    "ax.set_xticks(x_ticks)\n",
    "ax.set_yticks(y_ticks)\n",
    "ax.set_xlim([161, 207])\n",
    "ax.set_ylim([35, 68])\n",
    "ax.set_xticklabels(x_ticks, fontsize=20, fontname='Arial')\n",
    "ax.set_yticklabels(y_ticks, fontsize=20, fontname='Arial')\n",
    "\n",
    "# Remove top/right spines\n",
    "ax.spines[\"right\"].set_color(\"none\")\n",
    "ax.spines[\"top\"].set_color(\"none\")\n",
    "ax.spines['left'].set_linewidth(2)\n",
    "ax.spines['bottom'].set_linewidth(2)\n",
    "\n",
    "# Add legend\n",
    "# ax.legend()\n",
    "\n",
    "# Save figure\n",
    "plt.savefig(\"/Users/k20098771/Data/Figures/K26X_contact_map_merged_60_90.eps\", dpi=800, format='eps', bbox_inches=\"tight\")\n"
   ]
  },
  {
   "cell_type": "markdown",
   "metadata": {},
   "source": [
    "# W34A Mix all"
   ]
  },
  {
   "cell_type": "code",
   "execution_count": 15,
   "metadata": {},
   "outputs": [
    {
     "name": "stdout",
     "output_type": "stream",
     "text": [
      "Merged contact map shape: (46, 33)\n",
      "[[ 0  0  0 ...  0  0  0]\n",
      " [ 0  0  0 ...  0  0  0]\n",
      " [ 0  0  0 ...  0  0  0]\n",
      " ...\n",
      " [ 0  0  0 ...  1 10  1]\n",
      " [ 0  0  0 ...  0  4  0]\n",
      " [ 0  0  0 ...  2 10  1]]\n"
     ]
    }
   ],
   "source": [
    "# Load all six contact maps\n",
    "contact_maps = [np.load(f'./W34A_contact_map_0{i}.npy', allow_pickle=True) for i in range(1, 7)]\n",
    "\n",
    "# Sum them element-wise to get the merged contact map\n",
    "merged_contact_map = np.sum(contact_maps, axis=0)\n",
    "\n",
    "# Save the merged contact map\n",
    "np.save('W34A_merged_contact_map.npy', merged_contact_map)\n",
    "\n",
    "# Optionally, print the shape to verify\n",
    "print(\"Merged contact map shape:\", merged_contact_map.shape)\n",
    "\n",
    "print(merged_contact_map)"
   ]
  },
  {
   "cell_type": "code",
   "execution_count": 16,
   "metadata": {},
   "outputs": [
    {
     "data": {
      "text/html": [
       "<div>\n",
       "<style scoped>\n",
       "    .dataframe tbody tr th:only-of-type {\n",
       "        vertical-align: middle;\n",
       "    }\n",
       "\n",
       "    .dataframe tbody tr th {\n",
       "        vertical-align: top;\n",
       "    }\n",
       "\n",
       "    .dataframe thead th {\n",
       "        text-align: right;\n",
       "    }\n",
       "</style>\n",
       "<table border=\"1\" class=\"dataframe\">\n",
       "  <thead>\n",
       "    <tr style=\"text-align: right;\">\n",
       "      <th></th>\n",
       "      <th>0</th>\n",
       "      <th>1</th>\n",
       "      <th>2</th>\n",
       "      <th>3</th>\n",
       "      <th>4</th>\n",
       "      <th>5</th>\n",
       "    </tr>\n",
       "  </thead>\n",
       "  <tbody>\n",
       "    <tr>\n",
       "      <th>0</th>\n",
       "      <td>25</td>\n",
       "      <td>26</td>\n",
       "      <td>29</td>\n",
       "      <td>33</td>\n",
       "      <td>33</td>\n",
       "      <td>37</td>\n",
       "    </tr>\n",
       "    <tr>\n",
       "      <th>1</th>\n",
       "      <td>15</td>\n",
       "      <td>22</td>\n",
       "      <td>19</td>\n",
       "      <td>23</td>\n",
       "      <td>26</td>\n",
       "      <td>27</td>\n",
       "    </tr>\n",
       "  </tbody>\n",
       "</table>\n",
       "</div>"
      ],
      "text/plain": [
       "    0   1   2   3   4   5\n",
       "0  25  26  29  33  33  37\n",
       "1  15  22  19  23  26  27"
      ]
     },
     "execution_count": 16,
     "metadata": {},
     "output_type": "execute_result"
    }
   ],
   "source": [
    "prob=merged_contact_map/(len(u_1000)*3)\n",
    "chart=np.where(prob>=0.6)\n",
    "# chart_01=np.where(prob>=0.7)\n",
    "# chart_02=np.where(prob>=0.8)\n",
    "chart_03=np.where(prob>=0.9)\n",
    "\n",
    "df = pd.DataFrame(chart)\n",
    "# df_01 = pd.DataFrame(chart_01)\n",
    "# df_02 = pd.DataFrame(chart_02)\n",
    "df_03 = pd.DataFrame(chart_03)\n",
    "index=[\"TREM2\", \"DAP12_B\"]\n",
    "pd.set_option('display.max_rows', 500)\n",
    "pd.set_option('display.max_columns', 500)\n",
    "pd.set_option('display.width', 1000)\n",
    "df\n",
    "# df_01\n",
    "# df_02\n",
    "df_03"
   ]
  },
  {
   "cell_type": "code",
   "execution_count": 17,
   "metadata": {},
   "outputs": [
    {
     "name": "stdout",
     "output_type": "stream",
     "text": [
      "    TREM2  DAP12\n",
      "0     170     42\n",
      "1     183     53\n",
      "2     186     50\n",
      "3     187     53\n",
      "4     187     57\n",
      "5     190     54\n",
      "6     190     57\n",
      "7     190     58\n",
      "8     191     57\n",
      "9     191     61\n",
      "10    193     57\n",
      "11    193     61\n",
      "12    194     58\n",
      "13    194     61\n",
      "14    194     62\n",
      "15    197     61\n",
      "16    198     62\n",
      "17    198     65\n",
      "18    198     66\n",
      "   TREM2  DAP12\n",
      "0    186     50\n",
      "1    187     57\n",
      "2    190     54\n",
      "3    194     58\n",
      "4    194     61\n",
      "5    198     62\n"
     ]
    }
   ],
   "source": [
    "df = pd.DataFrame({'TREM2': chart[0]+161})\n",
    "df['DAP12'] = chart[1]+35 # Add a column 'D' with values from chartA[1]\n",
    "# df_01 = pd.DataFrame({'TREM2': chart_01[0]+161})\n",
    "# df_01['DAP12'] = chart_01[1]+35 # Add a column 'D' with values from chartA[1]\n",
    "# df_02 = pd.DataFrame({'TREM2': chart_02[0]+161})\n",
    "# df_02['DAP12'] = chart_02[1]+35 # Add a column 'D' with values from chartA[1]\n",
    "df_03 = pd.DataFrame({'TREM2': chart_03[0]+161})\n",
    "df_03['DAP12'] = chart_03[1]+35 # Add a column 'D' with values from chartA[1]\n",
    "#df.index = range(1, len(df) + 1)\n",
    "print(df)\n",
    "# print(df_01)\n",
    "# print(df_02)\n",
    "print(df_03)"
   ]
  },
  {
   "cell_type": "code",
   "execution_count": 18,
   "metadata": {},
   "outputs": [
    {
     "data": {
      "image/png": "[encoded data removed]",
      "text/plain": [
       "<Figure size 640x480 with 1 Axes>"
      ]
     },
     "metadata": {},
     "output_type": "display_data"
    }
   ],
   "source": [
    "# Create DataFrames\n",
    "df = pd.DataFrame({'TREM2': chart[0]+161, 'DAP12': chart[1]+35})\n",
    "# df_01 = pd.DataFrame({'TREM2': chart_01[0]+161, 'DAP12': chart_01[1]+35})\n",
    "# df_02 = pd.DataFrame({'TREM2': chart_02[0]+161, 'DAP12': chart_02[1]+35})\n",
    "df_03 = pd.DataFrame({'TREM2': chart_03[0]+161, 'DAP12': chart_03[1]+35})\n",
    "\n",
    "# Create a single figure and axis\n",
    "fig, ax = plt.subplots()\n",
    "\n",
    "# Plot each DataFrame using matplotlib directly\n",
    "ax.scatter(df['TREM2'], df['DAP12'], color='dodgerblue', label='Potential Residues')\n",
    "# ax.scatter(df_01['TREM2'], df_01['DAP12'], color='red', label='70%')\n",
    "# ax.scatter(df_02['TREM2'], df_02['DAP12'], color='green', label='80%')\n",
    "ax.scatter(df_03['TREM2'], df_03['DAP12'], color='red', label='Important Residues')\n",
    "\n",
    "# Labels and ticks\n",
    "ax.set_xlabel('TREM2', fontsize=25, fontname='Arial')\n",
    "ax.set_ylabel('DAP12', fontsize=25, fontname='Arial')\n",
    "\n",
    "# Add rectangle\n",
    "rect_2 = patches.Rectangle((13.5+161, 5.5+35), width=27, height=26, fill=False, edgecolor='gray')\n",
    "ax.add_patch(rect_2)\n",
    "\n",
    "# Set axis ticks and limits\n",
    "x_ticks = np.arange(161, 207+1, 5)\n",
    "y_ticks = np.arange(35, 68+1, 5)\n",
    "ax.set_xticks(x_ticks)\n",
    "ax.set_yticks(y_ticks)\n",
    "ax.set_xlim([161, 207])\n",
    "ax.set_ylim([35, 68])\n",
    "ax.set_xticklabels(x_ticks, fontsize=20, fontname='Arial')\n",
    "ax.set_yticklabels(y_ticks, fontsize=20, fontname='Arial')\n",
    "\n",
    "# Remove top/right spines\n",
    "ax.spines[\"right\"].set_color(\"none\")\n",
    "ax.spines[\"top\"].set_color(\"none\")\n",
    "ax.spines['left'].set_linewidth(2)\n",
    "ax.spines['bottom'].set_linewidth(2)\n",
    "\n",
    "# Add legend\n",
    "# ax.legend()\n",
    "\n",
    "# Save figure\n",
    "plt.savefig(\"/Users/k20098771/Data/Figures/W34A_contact_map_merged_60_90.eps\", dpi=800, format='eps', bbox_inches=\"tight\")\n"
   ]
  },
  {
   "cell_type": "markdown",
   "metadata": {},
   "source": [
    "# W34X Mix all"
   ]
  },
  {
   "cell_type": "code",
   "execution_count": 19,
   "metadata": {},
   "outputs": [
    {
     "name": "stdout",
     "output_type": "stream",
     "text": [
      "Merged contact map shape: (33, 33)\n",
      "[[ 0  0  0 ...  0  0  0]\n",
      " [ 0  0  0 ...  0  0  0]\n",
      " [ 1  0  0 ...  0  0  0]\n",
      " ...\n",
      " [ 0  0  0 ...  0  1  1]\n",
      " [ 0  0  0 ...  0 42  7]\n",
      " [ 0  0  0 ...  4 46 13]]\n"
     ]
    }
   ],
   "source": [
    "# Load all six contact maps\n",
    "contact_maps = [np.load(f'./W34X_contact_map_0{i}.npy', allow_pickle=True) for i in range(1, 7)]\n",
    "\n",
    "# Sum them element-wise to get the merged contact map\n",
    "merged_contact_map = np.sum(contact_maps, axis=0)\n",
    "\n",
    "# Save the merged contact map\n",
    "np.save('W34X_merged_contact_map.npy', merged_contact_map)\n",
    "\n",
    "# Optionally, print the shape to verify\n",
    "print(\"Merged contact map shape:\", merged_contact_map.shape)\n",
    "\n",
    "print(merged_contact_map)"
   ]
  },
  {
   "cell_type": "code",
   "execution_count": 20,
   "metadata": {},
   "outputs": [
    {
     "data": {
      "text/html": [
       "<div>\n",
       "<style scoped>\n",
       "    .dataframe tbody tr th:only-of-type {\n",
       "        vertical-align: middle;\n",
       "    }\n",
       "\n",
       "    .dataframe tbody tr th {\n",
       "        vertical-align: top;\n",
       "    }\n",
       "\n",
       "    .dataframe thead th {\n",
       "        text-align: right;\n",
       "    }\n",
       "</style>\n",
       "<table border=\"1\" class=\"dataframe\">\n",
       "  <thead>\n",
       "    <tr style=\"text-align: right;\">\n",
       "      <th></th>\n",
       "      <th>0</th>\n",
       "    </tr>\n",
       "  </thead>\n",
       "  <tbody>\n",
       "    <tr>\n",
       "      <th>0</th>\n",
       "      <td>17</td>\n",
       "    </tr>\n",
       "    <tr>\n",
       "      <th>1</th>\n",
       "      <td>19</td>\n",
       "    </tr>\n",
       "  </tbody>\n",
       "</table>\n",
       "</div>"
      ],
      "text/plain": [
       "    0\n",
       "0  17\n",
       "1  19"
      ]
     },
     "execution_count": 20,
     "metadata": {},
     "output_type": "execute_result"
    }
   ],
   "source": [
    "prob=merged_contact_map/(len(u_1000)*3)\n",
    "chart=np.where(prob>=0.6)\n",
    "# chart_01=np.where(prob>=0.7)\n",
    "# chart_02=np.where(prob>=0.8)\n",
    "chart_03=np.where(prob>=0.9)\n",
    "\n",
    "df = pd.DataFrame(chart)\n",
    "# df_01 = pd.DataFrame(chart_01)\n",
    "# df_02 = pd.DataFrame(chart_02)\n",
    "df_03 = pd.DataFrame(chart_03)\n",
    "index=[\"TREM2\", \"DAP12_B\"]\n",
    "pd.set_option('display.max_rows', 500)\n",
    "pd.set_option('display.max_columns', 500)\n",
    "pd.set_option('display.width', 1000)\n",
    "df\n",
    "# df_01\n",
    "# df_02\n",
    "df_03"
   ]
  },
  {
   "cell_type": "code",
   "execution_count": 21,
   "metadata": {},
   "outputs": [
    {
     "name": "stdout",
     "output_type": "stream",
     "text": [
      "   TREM2  DAP12\n",
      "0    177     54\n",
      "1    178     54\n",
      "2    178     57\n",
      "3    181     54\n",
      "4    182     61\n",
      "5    185     58\n",
      "6    185     62\n",
      "   TREM2  DAP12\n",
      "0    178     54\n"
     ]
    }
   ],
   "source": [
    "df = pd.DataFrame({'TREM2': chart[0]+161})\n",
    "df['DAP12'] = chart[1]+35 # Add a column 'D' with values from chartA[1]\n",
    "# df_01 = pd.DataFrame({'TREM2': chart_01[0]+161})\n",
    "# df_01['DAP12'] = chart_01[1]+35 # Add a column 'D' with values from chartA[1]\n",
    "# df_02 = pd.DataFrame({'TREM2': chart_02[0]+161})\n",
    "# df_02['DAP12'] = chart_02[1]+35 # Add a column 'D' with values from chartA[1]\n",
    "df_03 = pd.DataFrame({'TREM2': chart_03[0]+161})\n",
    "df_03['DAP12'] = chart_03[1]+35 # Add a column 'D' with values from chartA[1]\n",
    "#df.index = range(1, len(df) + 1)\n",
    "print(df)\n",
    "# print(df_01)\n",
    "# print(df_02)\n",
    "print(df_03)"
   ]
  },
  {
   "cell_type": "code",
   "execution_count": 22,
   "metadata": {},
   "outputs": [
    {
     "name": "stderr",
     "output_type": "stream",
     "text": [
      "The PostScript backend does not support transparency; partially transparent artists will be rendered opaque.\n"
     ]
    },
    {
     "data": {
      "image/png": "[encoded data removed]",
      "text/plain": [
       "<Figure size 640x480 with 1 Axes>"
      ]
     },
     "metadata": {},
     "output_type": "display_data"
    }
   ],
   "source": [
    "# Create DataFrames\n",
    "df = pd.DataFrame({'TREM2': chart[0]+161, 'DAP12': chart[1]+35})\n",
    "# df_01 = pd.DataFrame({'TREM2': chart_01[0]+161, 'DAP12': chart_01[1]+35})\n",
    "# df_02 = pd.DataFrame({'TREM2': chart_02[0]+161, 'DAP12': chart_02[1]+35})\n",
    "df_03 = pd.DataFrame({'TREM2': chart_03[0]+161, 'DAP12': chart_03[1]+35})\n",
    "\n",
    "# Create a single figure and axis\n",
    "fig, ax = plt.subplots()\n",
    "\n",
    "# Plot each DataFrame using matplotlib directly\n",
    "ax.scatter(df['TREM2'], df['DAP12'], color='dodgerblue', label='Potential Residues')\n",
    "# ax.scatter(df_01['TREM2'], df_01['DAP12'], color='red', label='70%')\n",
    "# ax.scatter(df_02['TREM2'], df_02['DAP12'], color='green', label='80%')\n",
    "ax.scatter(df_03['TREM2'], df_03['DAP12'], color='red', label='Important Residues')\n",
    "\n",
    "# Labels and ticks\n",
    "ax.set_xlabel('TREM2', fontsize=25, fontname='Arial')\n",
    "ax.set_ylabel('DAP12', fontsize=25, fontname='Arial')\n",
    "\n",
    "# Add rectangle\n",
    "rect_2 = patches.Rectangle((13.5+161, 5.5+35), width=21, height=26, fill=False, edgecolor='gray')\n",
    "ax.add_patch(rect_2)\n",
    "\n",
    "# Set axis ticks and limits\n",
    "x_ticks = np.arange(161, 207+1, 5)\n",
    "y_ticks = np.arange(35, 68+1, 5)\n",
    "ax.set_xticks(x_ticks)\n",
    "ax.set_yticks(y_ticks)\n",
    "ax.set_xlim([161, 207])\n",
    "ax.set_ylim([35, 68])\n",
    "ax.set_xticklabels(x_ticks, fontsize=20, fontname='Arial')\n",
    "ax.set_yticklabels(y_ticks, fontsize=20, fontname='Arial')\n",
    "\n",
    "# Remove top/right spines\n",
    "ax.spines[\"right\"].set_color(\"none\")\n",
    "ax.spines[\"top\"].set_color(\"none\")\n",
    "ax.spines['left'].set_linewidth(2)\n",
    "ax.spines['bottom'].set_linewidth(2)\n",
    "\n",
    "# Add legend\n",
    "ax.legend()\n",
    "\n",
    "# Save figure\n",
    "plt.savefig(\"/Users/k20098771/Data/Figures/W34X_contact_map_merged_60_90.eps\", dpi=800, format='eps', bbox_inches=\"tight\")"
   ]
  },
  {
   "cell_type": "markdown",
   "metadata": {},
   "source": [
    "# FL_219 Mix all"
   ]
  },
  {
   "cell_type": "code",
   "execution_count": 23,
   "metadata": {},
   "outputs": [
    {
     "name": "stdout",
     "output_type": "stream",
     "text": [
      "Merged contact map shape: (48, 33)\n",
      "[[1 3 4 ... 0 0 0]\n",
      " [0 3 3 ... 0 0 0]\n",
      " [7 5 2 ... 0 0 0]\n",
      " ...\n",
      " [0 0 0 ... 0 1 8]\n",
      " [0 0 0 ... 0 1 0]\n",
      " [0 0 0 ... 0 4 1]]\n"
     ]
    }
   ],
   "source": [
    "# Load all six contact maps\n",
    "contact_maps = [np.load(f'./FL_219_contact_map_0{i}.npy', allow_pickle=True) for i in range(1, 7)]\n",
    "\n",
    "# Sum them element-wise to get the merged contact map\n",
    "merged_contact_map = np.sum(contact_maps, axis=0)\n",
    "\n",
    "# Save the merged contact map\n",
    "np.save('FL_219_merged_contact_map.npy', merged_contact_map)\n",
    "\n",
    "# Optionally, print the shape to verify\n",
    "print(\"Merged contact map shape:\", merged_contact_map.shape)\n",
    "\n",
    "print(merged_contact_map)"
   ]
  },
  {
   "cell_type": "code",
   "execution_count": 24,
   "metadata": {},
   "outputs": [
    {
     "data": {
      "text/html": [
       "<div>\n",
       "<style scoped>\n",
       "    .dataframe tbody tr th:only-of-type {\n",
       "        vertical-align: middle;\n",
       "    }\n",
       "\n",
       "    .dataframe tbody tr th {\n",
       "        vertical-align: top;\n",
       "    }\n",
       "\n",
       "    .dataframe thead th {\n",
       "        text-align: right;\n",
       "    }\n",
       "</style>\n",
       "<table border=\"1\" class=\"dataframe\">\n",
       "  <thead>\n",
       "    <tr style=\"text-align: right;\">\n",
       "      <th></th>\n",
       "      <th>0</th>\n",
       "    </tr>\n",
       "  </thead>\n",
       "  <tbody>\n",
       "    <tr>\n",
       "      <th>0</th>\n",
       "      <td>37</td>\n",
       "    </tr>\n",
       "    <tr>\n",
       "      <th>1</th>\n",
       "      <td>23</td>\n",
       "    </tr>\n",
       "  </tbody>\n",
       "</table>\n",
       "</div>"
      ],
      "text/plain": [
       "    0\n",
       "0  37\n",
       "1  23"
      ]
     },
     "execution_count": 24,
     "metadata": {},
     "output_type": "execute_result"
    }
   ],
   "source": [
    "prob=merged_contact_map/(len(u_1000)*3)\n",
    "chart=np.where(prob>=0.6)\n",
    "# chart_01=np.where(prob>=0.7)\n",
    "# chart_02=np.where(prob>=0.8)\n",
    "chart_03=np.where(prob>=0.9)\n",
    "\n",
    "df = pd.DataFrame(chart)\n",
    "# df_01 = pd.DataFrame(chart_01)\n",
    "# df_02 = pd.DataFrame(chart_02)\n",
    "df_03 = pd.DataFrame(chart_03)\n",
    "index=[\"TREM2\", \"DAP12_B\"]\n",
    "pd.set_option('display.max_rows', 500)\n",
    "pd.set_option('display.max_columns', 500)\n",
    "pd.set_option('display.width', 1000)\n",
    "df\n",
    "# df_01\n",
    "# df_02\n",
    "df_03"
   ]
  },
  {
   "cell_type": "code",
   "execution_count": 25,
   "metadata": {},
   "outputs": [
    {
     "name": "stdout",
     "output_type": "stream",
     "text": [
      "   TREM2  DAP12\n",
      "0    191     54\n",
      "1    194     54\n",
      "2    195     57\n",
      "3    198     58\n",
      "4    198     61\n",
      "5    199     61\n",
      "6    200     66\n",
      "7    201     66\n",
      "8    202     66\n",
      "   TREM2  DAP12\n",
      "0    198     58\n"
     ]
    }
   ],
   "source": [
    "df = pd.DataFrame({'TREM2': chart[0]+161})\n",
    "df['DAP12'] = chart[1]+35 # Add a column 'D' with values from chartA[1]\n",
    "# df_01 = pd.DataFrame({'TREM2': chart_01[0]+161})\n",
    "# df_01['DAP12'] = chart_01[1]+35 # Add a column 'D' with values from chartA[1]\n",
    "# df_02 = pd.DataFrame({'TREM2': chart_02[0]+161})\n",
    "# df_02['DAP12'] = chart_02[1]+35 # Add a column 'D' with values from chartA[1]\n",
    "df_03 = pd.DataFrame({'TREM2': chart_03[0]+161})\n",
    "df_03['DAP12'] = chart_03[1]+35 # Add a column 'D' with values from chartA[1]\n",
    "#df.index = range(1, len(df) + 1)\n",
    "print(df)\n",
    "# print(df_01)\n",
    "# print(df_02)\n",
    "print(df_03)"
   ]
  },
  {
   "cell_type": "code",
   "execution_count": 26,
   "metadata": {},
   "outputs": [
    {
     "data": {
      "image/png": "[encoded data removed]",
      "text/plain": [
       "<Figure size 640x480 with 1 Axes>"
      ]
     },
     "metadata": {},
     "output_type": "display_data"
    }
   ],
   "source": [
    "# Create DataFrames\n",
    "df = pd.DataFrame({'TREM2': chart[0]+161, 'DAP12': chart[1]+35})\n",
    "# df_01 = pd.DataFrame({'TREM2': chart_01[0]+161, 'DAP12': chart_01[1]+35})\n",
    "# df_02 = pd.DataFrame({'TREM2': chart_02[0]+161, 'DAP12': chart_02[1]+35})\n",
    "df_03 = pd.DataFrame({'TREM2': chart_03[0]+161, 'DAP12': chart_03[1]+35})\n",
    "\n",
    "# Create a single figure and axis\n",
    "fig, ax = plt.subplots()\n",
    "\n",
    "# Plot each DataFrame using matplotlib directly\n",
    "ax.scatter(df['TREM2'], df['DAP12'], color='dodgerblue', label='Potential Residues')\n",
    "# ax.scatter(df_01['TREM2'], df_01['DAP12'], color='red', label='70%')\n",
    "# ax.scatter(df_02['TREM2'], df_02['DAP12'], color='green', label='80%')\n",
    "ax.scatter(df_03['TREM2'], df_03['DAP12'], color='red', label='Important Residues')\n",
    "\n",
    "# Labels and ticks\n",
    "ax.set_xlabel('TREM2', fontsize=25, fontname='Arial')\n",
    "ax.set_ylabel('DAP12', fontsize=25, fontname='Arial')\n",
    "\n",
    "# Add rectangle\n",
    "rect_2 = patches.Rectangle((13.5+161, 5.5+35), width=28, height=26, fill=False, edgecolor='gray')\n",
    "ax.add_patch(rect_2)\n",
    "\n",
    "# Set axis ticks and limits\n",
    "x_ticks = np.arange(161, 48+161, 5)\n",
    "y_ticks = np.arange(35, 33+35, 5)\n",
    "ax.set_xticks(x_ticks)\n",
    "ax.set_yticks(y_ticks)\n",
    "plt.xlim([0+161,48+161])\n",
    "plt.ylim([0+35,33+35])\n",
    "ax.set_xticklabels(x_ticks, fontsize=20, fontname='Arial')\n",
    "ax.set_yticklabels(y_ticks, fontsize=20, fontname='Arial')\n",
    "\n",
    "# Remove top/right spines\n",
    "ax.spines[\"right\"].set_color(\"none\")\n",
    "ax.spines[\"top\"].set_color(\"none\")\n",
    "ax.spines['left'].set_linewidth(2)\n",
    "ax.spines['bottom'].set_linewidth(2)\n",
    "\n",
    "# Add legend\n",
    "# ax.legend()\n",
    "\n",
    "# Save figure\n",
    "plt.savefig(\"/Users/k20098771/Data/Figures/FL_219_contact_map_merged_60_90.eps\", dpi=800, format='eps', bbox_inches=\"tight\")"
   ]
  },
  {
   "cell_type": "markdown",
   "metadata": {},
   "source": [
    "# W31A_219 Mix all"
   ]
  },
  {
   "cell_type": "code",
   "execution_count": 27,
   "metadata": {},
   "outputs": [
    {
     "name": "stdout",
     "output_type": "stream",
     "text": [
      "Merged contact map shape: (48, 33)\n",
      "[[ 0  3  0 ...  0  0  0]\n",
      " [ 2  5  9 ...  0  0  0]\n",
      " [ 9 23  5 ...  0  0  0]\n",
      " ...\n",
      " [ 0  0  0 ... 17 10 13]\n",
      " [ 0  0  0 ...  0 11 15]\n",
      " [ 0  0  0 ...  1  7  7]]\n"
     ]
    }
   ],
   "source": [
    "# Load all six contact maps\n",
    "contact_maps = [np.load(f'./W31A_219_contact_map_0{i}.npy', allow_pickle=True) for i in range(1, 7)]\n",
    "\n",
    "# Sum them element-wise to get the merged contact map\n",
    "merged_contact_map = np.sum(contact_maps, axis=0)\n",
    "\n",
    "# Save the merged contact map\n",
    "np.save('W31A_merged_contact_map.npy', merged_contact_map)\n",
    "\n",
    "# Optionally, print the shape to verify\n",
    "print(\"Merged contact map shape:\", merged_contact_map.shape)\n",
    "\n",
    "print(merged_contact_map)"
   ]
  },
  {
   "cell_type": "code",
   "execution_count": 28,
   "metadata": {},
   "outputs": [
    {
     "data": {
      "text/html": [
       "<div>\n",
       "<style scoped>\n",
       "    .dataframe tbody tr th:only-of-type {\n",
       "        vertical-align: middle;\n",
       "    }\n",
       "\n",
       "    .dataframe tbody tr th {\n",
       "        vertical-align: top;\n",
       "    }\n",
       "\n",
       "    .dataframe thead th {\n",
       "        text-align: right;\n",
       "    }\n",
       "</style>\n",
       "<table border=\"1\" class=\"dataframe\">\n",
       "  <thead>\n",
       "    <tr style=\"text-align: right;\">\n",
       "      <th></th>\n",
       "      <th>0</th>\n",
       "      <th>1</th>\n",
       "    </tr>\n",
       "  </thead>\n",
       "  <tbody>\n",
       "    <tr>\n",
       "      <th>0</th>\n",
       "      <td>37</td>\n",
       "      <td>41</td>\n",
       "    </tr>\n",
       "    <tr>\n",
       "      <th>1</th>\n",
       "      <td>23</td>\n",
       "      <td>27</td>\n",
       "    </tr>\n",
       "  </tbody>\n",
       "</table>\n",
       "</div>"
      ],
      "text/plain": [
       "    0   1\n",
       "0  37  41\n",
       "1  23  27"
      ]
     },
     "execution_count": 28,
     "metadata": {},
     "output_type": "execute_result"
    }
   ],
   "source": [
    "prob=merged_contact_map/(len(u_1000)*3)\n",
    "chart=np.where(prob>=0.6)\n",
    "# chart_01=np.where(prob>=0.7)\n",
    "# chart_02=np.where(prob>=0.8)\n",
    "chart_03=np.where(prob>=0.9)\n",
    "\n",
    "df = pd.DataFrame(chart)\n",
    "# df_01 = pd.DataFrame(chart_01)\n",
    "# df_02 = pd.DataFrame(chart_02)\n",
    "df_03 = pd.DataFrame(chart_03)\n",
    "index=[\"TREM2\", \"DAP12_B\"]\n",
    "pd.set_option('display.max_rows', 500)\n",
    "pd.set_option('display.max_columns', 500)\n",
    "pd.set_option('display.width', 1000)\n",
    "df\n",
    "# df_01\n",
    "# df_02\n",
    "df_03"
   ]
  },
  {
   "cell_type": "code",
   "execution_count": 29,
   "metadata": {},
   "outputs": [
    {
     "name": "stdout",
     "output_type": "stream",
     "text": [
      "   TREM2  DAP12\n",
      "0    167     50\n",
      "1    195     57\n",
      "2    197     55\n",
      "3    198     57\n",
      "4    198     58\n",
      "5    198     61\n",
      "6    198     62\n",
      "7    201     62\n",
      "8    202     62\n",
      "9    202     66\n",
      "   TREM2  DAP12\n",
      "0    198     58\n",
      "1    202     62\n"
     ]
    }
   ],
   "source": [
    "df = pd.DataFrame({'TREM2': chart[0]+161})\n",
    "df['DAP12'] = chart[1]+35 # Add a column 'D' with values from chartA[1]\n",
    "# df_01 = pd.DataFrame({'TREM2': chart_01[0]+161})\n",
    "# df_01['DAP12'] = chart_01[1]+35 # Add a column 'D' with values from chartA[1]\n",
    "# df_02 = pd.DataFrame({'TREM2': chart_02[0]+161})\n",
    "# df_02['DAP12'] = chart_02[1]+35 # Add a column 'D' with values from chartA[1]\n",
    "df_03 = pd.DataFrame({'TREM2': chart_03[0]+161})\n",
    "df_03['DAP12'] = chart_03[1]+35 # Add a column 'D' with values from chartA[1]\n",
    "#df.index = range(1, len(df) + 1)\n",
    "print(df)\n",
    "# print(df_01)\n",
    "# print(df_02)\n",
    "print(df_03)"
   ]
  },
  {
   "cell_type": "code",
   "execution_count": 30,
   "metadata": {},
   "outputs": [
    {
     "name": "stderr",
     "output_type": "stream",
     "text": [
      "The PostScript backend does not support transparency; partially transparent artists will be rendered opaque.\n"
     ]
    },
    {
     "data": {
      "image/png": "[encoded data removed]",
      "text/plain": [
       "<Figure size 640x480 with 1 Axes>"
      ]
     },
     "metadata": {},
     "output_type": "display_data"
    }
   ],
   "source": [
    "# Create DataFrames\n",
    "df = pd.DataFrame({'TREM2': chart[0]+161, 'DAP12': chart[1]+35})\n",
    "# df_01 = pd.DataFrame({'TREM2': chart_01[0]+161, 'DAP12': chart_01[1]+35})\n",
    "# df_02 = pd.DataFrame({'TREM2': chart_02[0]+161, 'DAP12': chart_02[1]+35})\n",
    "df_03 = pd.DataFrame({'TREM2': chart_03[0]+161, 'DAP12': chart_03[1]+35})\n",
    "\n",
    "# Create a single figure and axis\n",
    "fig, ax = plt.subplots()\n",
    "\n",
    "# Plot each DataFrame using matplotlib directly\n",
    "ax.scatter(df['TREM2'], df['DAP12'], color='dodgerblue', label='Potential Residues')\n",
    "# ax.scatter(df_01['TREM2'], df_01['DAP12'], color='red', label='70%')\n",
    "# ax.scatter(df_02['TREM2'], df_02['DAP12'], color='green', label='80%')\n",
    "ax.scatter(df_03['TREM2'], df_03['DAP12'], color='red', label='Important Residues')\n",
    "\n",
    "# Labels and ticks\n",
    "ax.set_xlabel('TREM2', fontsize=25, fontname='Arial')\n",
    "ax.set_ylabel('DAP12', fontsize=25, fontname='Arial')\n",
    "\n",
    "# Add rectangle\n",
    "rect_2 = patches.Rectangle((13.5+161, 5.5+35), width=28, height=26, fill=False, edgecolor='gray')\n",
    "ax.add_patch(rect_2)\n",
    "\n",
    "# Set axis ticks and limits\n",
    "x_ticks = np.arange(161, 48+161, 5)\n",
    "y_ticks = np.arange(35, 33+35, 5)\n",
    "ax.set_xticks(x_ticks)\n",
    "ax.set_yticks(y_ticks)\n",
    "plt.xlim([0+161,48+161])\n",
    "plt.ylim([0+35,33+35])\n",
    "ax.set_xticklabels(x_ticks, fontsize=20, fontname='Arial')\n",
    "ax.set_yticklabels(y_ticks, fontsize=20, fontname='Arial')\n",
    "\n",
    "# Remove top/right spines\n",
    "ax.spines[\"right\"].set_color(\"none\")\n",
    "ax.spines[\"top\"].set_color(\"none\")\n",
    "ax.spines['left'].set_linewidth(2)\n",
    "ax.spines['bottom'].set_linewidth(2)\n",
    "\n",
    "# Add legend\n",
    "ax.legend()\n",
    "\n",
    "# Save figure\n",
    "plt.savefig(\"/Users/k20098771/Data/Figures/W31A_219_contact_map_merged_60_90.eps\", dpi=800, format='eps', bbox_inches=\"tight\")"
   ]
  },
  {
   "cell_type": "markdown",
   "metadata": {},
   "source": [
    "# W31X_219 Mix all"
   ]
  },
  {
   "cell_type": "code",
   "execution_count": 31,
   "metadata": {},
   "outputs": [
    {
     "name": "stdout",
     "output_type": "stream",
     "text": [
      "Merged contact map shape: (30, 33)\n",
      "[[ 0  0  0  0  0  0  0  0  0  0  0  0  0  0  0  0  0  0  0  0  0  0  0  0\n",
      "   0  0  0 55 21 11 27 61 63]\n",
      " [ 0  0  0  0  0  0  0  0  0  0  0  0  0  0  0  0  0  0  0  0  0  0  0  0\n",
      "   0  0  0  1  0  9  8 14  0]\n",
      " [ 0  0  0  0  0  0  0  0  0  0  0  0  0  0  0  0  0  0  0  0  0  0  0  0\n",
      "   0  0  0  0  0  0  4  6  8]\n",
      " [ 0  0  0  0  0  0  0  0  0  0  0  0  0  0  0  0  0  0  0  0  0  0  0  0\n",
      "   0  0  0 12  5  0 13 15 22]\n",
      " [ 0  0  0  0  0  0  0  0  0  0  0  0  0  0  0  0  0  0  0  0  0  0  0  0\n",
      "   0  0  2 10  0  0  7  7 17]\n",
      " [ 0  0  0  0  0  0  0  0  0  0  0  0  0  0  0  0  0  0  0  0  0  0  0  0\n",
      "   0  0  0  6  2  0  1  2 13]\n",
      " [ 0  0  0  0  0  0  0  0  0  0  0  0  0  0  0  0  0  0  0  0  0  0  0  0\n",
      "   0  0  0  2  0  0  2  8 28]\n",
      " [ 0  0  0  0  0  0  0  0  0  0  0  0  0  0  0  0  0  0  0  0  0  0  0  0\n",
      "   0  0  0  0  0  0  1  8  8]\n",
      " [ 0  0  0  0  0  0  0  0  0  0  0  0  0  0  0  0  0  0  0  0  0  0  0  0\n",
      "   0  0  0  0  0  0  0  6  1]\n",
      " [ 0  0  0  0  0  0  0  0  0  0  0  0  0  0  0  0  0  0  0  0  0  0  0  0\n",
      "   0  0  0  0  0  0  0  5  2]\n",
      " [ 0  0  0  0  0  0  0  0  0  0  0  0  0  0  0  0  0  0  0  0  0  0  0  0\n",
      "   0  0  0  0  0  0  0  1  1]\n",
      " [ 0  0  0  0  0  0  0  0  0  0  0  0  0  0  0  0  0  0  0  0  0  0  0  0\n",
      "   0  0  0  0  0  0  0  0 14]\n",
      " [ 0  0  0  0  0  0  0  0  0  0  0  0  0  0  0  0  0  0  0  0  0  0  0  0\n",
      "   0  0  0  0  0  0  0  7 19]\n",
      " [ 0  0  0  0  0  0  0  0  0  0  0  0  0  0  0  0  0  0  0  0  0  0  0  0\n",
      "   0  0  0  0  0  0  0  7 19]\n",
      " [ 0  0  0  0  0  0  0  0  0  0  0  0  0  0  0  0  0  0  0  0  0  0  0  0\n",
      "   0  0  0  0  0  0  0  3 27]\n",
      " [ 0  0  0  0  0  0  0  0  0  0  0  0  0  0  0  0  0  0  0  0  0  0  0  0\n",
      "   0  0  0  0  0  0  0 12 11]\n",
      " [ 0  0  0  0  0  0  0  0  0  0  0  0  0  0  0  0  3  0  0 27  1  0  7 19\n",
      "   0  0  3  1  0  0  0  5  0]\n",
      " [ 0  0  0  0  0  0  0  0  0  0  0  0  1  0  0  0 44  0  0 22  9  0  0  3\n",
      "   0  0  0  2 13  5 16  1  6]\n",
      " [ 0  0  0  0  0  0  0  0  0  0  0  0  0  0  0  0  0  0  0  4  0  0  0  0\n",
      "   0  0  0  2  1  0  0 12  0]\n",
      " [ 0  0  0  0  0  0  0  0  0  0  0  0 26  0  0 39 43  0  0 23  0  0  0  0\n",
      "   0  0  1 25 28  0  0 17  2]\n",
      " [ 0  0  0  0  0  0  0  0  0  0  0  0  0  0  0 19  0  0  0  0  0  0  0  0\n",
      "   0  0  0  2  4  0  1  5  9]\n",
      " [ 0  0  0  0  0  0  0  0  0  0  0  0  0  0  0 35  0  0  2  0  0  0  0  0\n",
      "   0  0  0 24 24  0  1 20  6]\n",
      " [ 0  0  0  0  0  0  0  0  0  0  0  0  0  0  0  0  0  0  0  0  0  0  0  0\n",
      "   0  0  0  4 18  0  1  3  2]\n",
      " [ 0  0  0  0  0  0  0  0  0  0  0  0  0  0  0  0  0  0  0  0  0  0  0  0\n",
      "   1  0  0  0 36  0  1 26  1]\n",
      " [ 0  0  0  0  0  0  0  0  0  0  0  0  0  0  0  0  0  0  0  0  0  0  0  0\n",
      "   0  0  0  2 16  0  0  0  0]\n",
      " [ 0  0  0  0  0  0  0  0  0  0  0  0  0  0  0  0  0  0  0  0  0  0  0  0\n",
      "   1  0  0  0  1  0  0  0  0]\n",
      " [ 0  0  0  0  0  0  0  0  0  0  0  0  0  0  0  0  0  0  0  0  0  0  0  0\n",
      "   1  0  0  0 10  0  0  0  3]\n",
      " [ 0  0  0  0  0  0  0  0  0  0  0  0  0  0  0  0  0  0  0  0  0  0  0  0\n",
      "   0  0  0  0  7  0  0  0  0]\n",
      " [ 0  0  0  0  0  0  0  0  0  0  0  0  0  0  0  0  0  0  0  0  0  0  0  0\n",
      "   0  0  0  0  0  0  0  0  0]\n",
      " [ 0  0  0  0  0  0  0  0  0  0  0  0  0  0  0  0  0  0  0  0  0  0  0  0\n",
      "   0  0  0  0  0  0  0  0  0]]\n"
     ]
    }
   ],
   "source": [
    "# Load all six contact maps\n",
    "contact_maps = [np.load(f'./W31X_219_contact_map_0{i}.npy', allow_pickle=True) for i in range(1, 7)]\n",
    "\n",
    "# Sum them element-wise to get the merged contact map\n",
    "merged_contact_map = np.sum(contact_maps, axis=0)\n",
    "\n",
    "# Save the merged contact map\n",
    "np.save('W31X_merged_contact_map.npy', merged_contact_map)\n",
    "\n",
    "# Optionally, print the shape to verify\n",
    "print(\"Merged contact map shape:\", merged_contact_map.shape)\n",
    "\n",
    "print(merged_contact_map)"
   ]
  },
  {
   "cell_type": "code",
   "execution_count": 32,
   "metadata": {},
   "outputs": [
    {
     "data": {
      "text/html": [
       "<div>\n",
       "<style scoped>\n",
       "    .dataframe tbody tr th:only-of-type {\n",
       "        vertical-align: middle;\n",
       "    }\n",
       "\n",
       "    .dataframe tbody tr th {\n",
       "        vertical-align: top;\n",
       "    }\n",
       "\n",
       "    .dataframe thead th {\n",
       "        text-align: right;\n",
       "    }\n",
       "</style>\n",
       "<table border=\"1\" class=\"dataframe\">\n",
       "  <thead>\n",
       "    <tr style=\"text-align: right;\">\n",
       "      <th></th>\n",
       "    </tr>\n",
       "  </thead>\n",
       "  <tbody>\n",
       "    <tr>\n",
       "      <th>0</th>\n",
       "    </tr>\n",
       "    <tr>\n",
       "      <th>1</th>\n",
       "    </tr>\n",
       "  </tbody>\n",
       "</table>\n",
       "</div>"
      ],
      "text/plain": [
       "Empty DataFrame\n",
       "Columns: []\n",
       "Index: [0, 1]"
      ]
     },
     "execution_count": 32,
     "metadata": {},
     "output_type": "execute_result"
    }
   ],
   "source": [
    "prob=merged_contact_map/(len(u_1000)*3)\n",
    "chart=np.where(prob>=0.6)\n",
    "# chart_01=np.where(prob>=0.7)\n",
    "# chart_02=np.where(prob>=0.8)\n",
    "chart_03=np.where(prob>=0.9)\n",
    "\n",
    "df = pd.DataFrame(chart)\n",
    "# df_01 = pd.DataFrame(chart_01)\n",
    "# df_02 = pd.DataFrame(chart_02)\n",
    "df_03 = pd.DataFrame(chart_03)\n",
    "index=[\"TREM2\", \"DAP12_B\"]\n",
    "pd.set_option('display.max_rows', 500)\n",
    "pd.set_option('display.max_columns', 500)\n",
    "pd.set_option('display.width', 1000)\n",
    "df\n",
    "# df_01\n",
    "# df_02\n",
    "df_03"
   ]
  },
  {
   "cell_type": "code",
   "execution_count": 33,
   "metadata": {},
   "outputs": [
    {
     "name": "stdout",
     "output_type": "stream",
     "text": [
      "Empty DataFrame\n",
      "Columns: [TREM2, DAP12]\n",
      "Index: []\n",
      "Empty DataFrame\n",
      "Columns: [TREM2, DAP12]\n",
      "Index: []\n"
     ]
    }
   ],
   "source": [
    "df = pd.DataFrame({'TREM2': chart[0]+161})\n",
    "df['DAP12'] = chart[1]+35 # Add a column 'D' with values from chartA[1]\n",
    "# df_01 = pd.DataFrame({'TREM2': chart_01[0]+161})\n",
    "# df_01['DAP12'] = chart_01[1]+35 # Add a column 'D' with values from chartA[1]\n",
    "# df_02 = pd.DataFrame({'TREM2': chart_02[0]+161})\n",
    "# df_02['DAP12'] = chart_02[1]+35 # Add a column 'D' with values from chartA[1]\n",
    "df_03 = pd.DataFrame({'TREM2': chart_03[0]+161})\n",
    "df_03['DAP12'] = chart_03[1]+35 # Add a column 'D' with values from chartA[1]\n",
    "#df.index = range(1, len(df) + 1)\n",
    "print(df)\n",
    "# print(df_01)\n",
    "# print(df_02)\n",
    "print(df_03)"
   ]
  },
  {
   "cell_type": "code",
   "execution_count": 34,
   "metadata": {},
   "outputs": [
    {
     "data": {
      "image/png": "[encoded data removed]",
      "text/plain": [
       "<Figure size 640x480 with 1 Axes>"
      ]
     },
     "metadata": {},
     "output_type": "display_data"
    }
   ],
   "source": [
    "# Create DataFrames\n",
    "df = pd.DataFrame({'TREM2': chart[0]+161, 'DAP12': chart[1]+35})\n",
    "# df_01 = pd.DataFrame({'TREM2': chart_01[0]+161, 'DAP12': chart_01[1]+35})\n",
    "# df_02 = pd.DataFrame({'TREM2': chart_02[0]+161, 'DAP12': chart_02[1]+35})\n",
    "df_03 = pd.DataFrame({'TREM2': chart_03[0]+161, 'DAP12': chart_03[1]+35})\n",
    "\n",
    "# Create a single figure and axis\n",
    "fig, ax = plt.subplots()\n",
    "\n",
    "# Plot each DataFrame using matplotlib directly\n",
    "ax.scatter(df['TREM2'], df['DAP12'], color='dodgerblue', label='Potential Residues')\n",
    "# ax.scatter(df_01['TREM2'], df_01['DAP12'], color='red', label='70%')\n",
    "# ax.scatter(df_02['TREM2'], df_02['DAP12'], color='green', label='80%')\n",
    "ax.scatter(df_03['TREM2'], df_03['DAP12'], color='red', label='Important Residues')\n",
    "\n",
    "# Labels and ticks\n",
    "ax.set_xlabel('TREM2', fontsize=25, fontname='Arial')\n",
    "ax.set_ylabel('DAP12', fontsize=25, fontname='Arial')\n",
    "\n",
    "# Add rectangle\n",
    "rect_2 = patches.Rectangle((13.5+161, 5.5+35), width=17, height=26, fill=False, edgecolor='gray')\n",
    "ax.add_patch(rect_2)\n",
    "\n",
    "# Set axis ticks and limits\n",
    "x_ticks = np.arange(161, 48+161, 5)\n",
    "y_ticks = np.arange(35, 33+35, 5)\n",
    "ax.set_xticks(x_ticks)\n",
    "ax.set_yticks(y_ticks)\n",
    "plt.xlim([0+161,48+161])\n",
    "plt.ylim([0+35,33+35])\n",
    "ax.set_xticklabels(x_ticks, fontsize=20, fontname='Arial')\n",
    "ax.set_yticklabels(y_ticks, fontsize=20, fontname='Arial')\n",
    "\n",
    "# Remove top/right spines\n",
    "ax.spines[\"right\"].set_color(\"none\")\n",
    "ax.spines[\"top\"].set_color(\"none\")\n",
    "ax.spines['left'].set_linewidth(2)\n",
    "ax.spines['bottom'].set_linewidth(2)\n",
    "\n",
    "# Add legend\n",
    "# ax.legend()\n",
    "\n",
    "# Save figure\n",
    "plt.savefig(\"/Users/k20098771/Data/Figures/W31X_219_contact_map_merged_60_90.eps\", dpi=800, format='eps', bbox_inches=\"tight\")"
   ]
  },
  {
   "cell_type": "code",
   "execution_count": null,
   "metadata": {},
   "outputs": [],
   "source": []
  },
  {
   "cell_type": "code",
   "execution_count": null,
   "metadata": {},
   "outputs": [],
   "source": []
  },
  {
   "cell_type": "code",
   "execution_count": null,
   "metadata": {},
   "outputs": [],
   "source": []
  }
 ],
 "metadata": {
  "kernelspec": {
   "display_name": "Python 3 (ipykernel)",
   "language": "python",
   "name": "python3"
  },
  "language_info": {
   "codemirror_mode": {
    "name": "ipython",
    "version": 3
   },
   "file_extension": ".py",
   "mimetype": "text/x-python",
   "name": "python",
   "nbconvert_exporter": "python",
   "pygments_lexer": "ipython3",
   "version": "3.10.9"
  }
 },
 "nbformat": 4,
 "nbformat_minor": 4
}
